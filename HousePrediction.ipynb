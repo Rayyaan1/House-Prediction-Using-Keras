{
  "cells": [
    {
      "cell_type": "markdown",
      "source": [
        "# How to build your first Neural Network to predict house prices with Keras"
      ],
      "metadata": {
        "id": "78Rqdrm3DTli"
      },
      "id": "78Rqdrm3DTli"
    },
    {
      "cell_type": "code",
      "source": [
        "#import necessary libraries\n",
        "import pandas as pd\n",
        "import numpy as np\n",
        "import matplotlib.pyplot as plt\n",
        "from sklearn import preprocessing\n",
        "from sklearn.model_selection import train_test_split\n",
        "import requests\n",
        "from io import StringIO\n"
      ],
      "metadata": {
        "id": "UGltA-2XDYK2"
      },
      "id": "UGltA-2XDYK2",
      "execution_count": 33,
      "outputs": []
    },
    {
      "cell_type": "code",
      "execution_count": 2,
      "id": "04f65274",
      "metadata": {
        "colab": {
          "base_uri": "https://localhost:8080/"
        },
        "id": "04f65274",
        "outputId": "132910e4-aee9-4efa-8d8a-c614680edbf9"
      },
      "outputs": [
        {
          "output_type": "stream",
          "name": "stdout",
          "text": [
            "(1460, 11)\n"
          ]
        }
      ],
      "source": [
        "# URL of the CSV file to download\n",
        "url = \"https://drive.usercontent.google.com/u/0/uc?id=1GfvKA0qznNVknghV4botnNxyH-KvODOC&export=download\"\n",
        "\n",
        "response = requests.get(url)\n",
        "\n",
        "if response.ok:\n",
        "  data = response.content.decode('utf8')\n",
        "  df = pd.read_csv(StringIO(data))\n",
        "\n",
        "  print(df.shape)\n",
        "\n",
        "else:\n",
        "  print(\"Error fetching file: \", response.status_code)\n",
        "# df = pd.read_csv('housepricedata.csv')\n"
      ]
    },
    {
      "cell_type": "code",
      "execution_count": 4,
      "id": "0c267d69",
      "metadata": {
        "colab": {
          "base_uri": "https://localhost:8080/",
          "height": 300
        },
        "id": "0c267d69",
        "outputId": "929c0f0c-43c8-4ec9-c807-a72c5e5cea3d"
      },
      "outputs": [
        {
          "output_type": "execute_result",
          "data": {
            "text/plain": [
              "             LotArea  OverallQual  OverallCond  TotalBsmtSF     FullBath  \\\n",
              "count    1460.000000  1460.000000  1460.000000  1460.000000  1460.000000   \n",
              "mean    10516.828082     6.099315     5.575342  1057.429452     1.565068   \n",
              "std      9981.264932     1.382997     1.112799   438.705324     0.550916   \n",
              "min      1300.000000     1.000000     1.000000     0.000000     0.000000   \n",
              "25%      7553.500000     5.000000     5.000000   795.750000     1.000000   \n",
              "50%      9478.500000     6.000000     5.000000   991.500000     2.000000   \n",
              "75%     11601.500000     7.000000     6.000000  1298.250000     2.000000   \n",
              "max    215245.000000    10.000000     9.000000  6110.000000     3.000000   \n",
              "\n",
              "          HalfBath  BedroomAbvGr  TotRmsAbvGrd   Fireplaces   GarageArea  \\\n",
              "count  1460.000000   1460.000000   1460.000000  1460.000000  1460.000000   \n",
              "mean      0.382877      2.866438      6.517808     0.613014   472.980137   \n",
              "std       0.502885      0.815778      1.625393     0.644666   213.804841   \n",
              "min       0.000000      0.000000      2.000000     0.000000     0.000000   \n",
              "25%       0.000000      2.000000      5.000000     0.000000   334.500000   \n",
              "50%       0.000000      3.000000      6.000000     1.000000   480.000000   \n",
              "75%       1.000000      3.000000      7.000000     1.000000   576.000000   \n",
              "max       2.000000      8.000000     14.000000     3.000000  1418.000000   \n",
              "\n",
              "       AboveMedianPrice  \n",
              "count       1460.000000  \n",
              "mean           0.498630  \n",
              "std            0.500169  \n",
              "min            0.000000  \n",
              "25%            0.000000  \n",
              "50%            0.000000  \n",
              "75%            1.000000  \n",
              "max            1.000000  "
            ],
            "text/html": [
              "\n",
              "  <div id=\"df-3911312a-8658-4f97-9633-b9de3d68c3a4\" class=\"colab-df-container\">\n",
              "    <div>\n",
              "<style scoped>\n",
              "    .dataframe tbody tr th:only-of-type {\n",
              "        vertical-align: middle;\n",
              "    }\n",
              "\n",
              "    .dataframe tbody tr th {\n",
              "        vertical-align: top;\n",
              "    }\n",
              "\n",
              "    .dataframe thead th {\n",
              "        text-align: right;\n",
              "    }\n",
              "</style>\n",
              "<table border=\"1\" class=\"dataframe\">\n",
              "  <thead>\n",
              "    <tr style=\"text-align: right;\">\n",
              "      <th></th>\n",
              "      <th>LotArea</th>\n",
              "      <th>OverallQual</th>\n",
              "      <th>OverallCond</th>\n",
              "      <th>TotalBsmtSF</th>\n",
              "      <th>FullBath</th>\n",
              "      <th>HalfBath</th>\n",
              "      <th>BedroomAbvGr</th>\n",
              "      <th>TotRmsAbvGrd</th>\n",
              "      <th>Fireplaces</th>\n",
              "      <th>GarageArea</th>\n",
              "      <th>AboveMedianPrice</th>\n",
              "    </tr>\n",
              "  </thead>\n",
              "  <tbody>\n",
              "    <tr>\n",
              "      <th>count</th>\n",
              "      <td>1460.000000</td>\n",
              "      <td>1460.000000</td>\n",
              "      <td>1460.000000</td>\n",
              "      <td>1460.000000</td>\n",
              "      <td>1460.000000</td>\n",
              "      <td>1460.000000</td>\n",
              "      <td>1460.000000</td>\n",
              "      <td>1460.000000</td>\n",
              "      <td>1460.000000</td>\n",
              "      <td>1460.000000</td>\n",
              "      <td>1460.000000</td>\n",
              "    </tr>\n",
              "    <tr>\n",
              "      <th>mean</th>\n",
              "      <td>10516.828082</td>\n",
              "      <td>6.099315</td>\n",
              "      <td>5.575342</td>\n",
              "      <td>1057.429452</td>\n",
              "      <td>1.565068</td>\n",
              "      <td>0.382877</td>\n",
              "      <td>2.866438</td>\n",
              "      <td>6.517808</td>\n",
              "      <td>0.613014</td>\n",
              "      <td>472.980137</td>\n",
              "      <td>0.498630</td>\n",
              "    </tr>\n",
              "    <tr>\n",
              "      <th>std</th>\n",
              "      <td>9981.264932</td>\n",
              "      <td>1.382997</td>\n",
              "      <td>1.112799</td>\n",
              "      <td>438.705324</td>\n",
              "      <td>0.550916</td>\n",
              "      <td>0.502885</td>\n",
              "      <td>0.815778</td>\n",
              "      <td>1.625393</td>\n",
              "      <td>0.644666</td>\n",
              "      <td>213.804841</td>\n",
              "      <td>0.500169</td>\n",
              "    </tr>\n",
              "    <tr>\n",
              "      <th>min</th>\n",
              "      <td>1300.000000</td>\n",
              "      <td>1.000000</td>\n",
              "      <td>1.000000</td>\n",
              "      <td>0.000000</td>\n",
              "      <td>0.000000</td>\n",
              "      <td>0.000000</td>\n",
              "      <td>0.000000</td>\n",
              "      <td>2.000000</td>\n",
              "      <td>0.000000</td>\n",
              "      <td>0.000000</td>\n",
              "      <td>0.000000</td>\n",
              "    </tr>\n",
              "    <tr>\n",
              "      <th>25%</th>\n",
              "      <td>7553.500000</td>\n",
              "      <td>5.000000</td>\n",
              "      <td>5.000000</td>\n",
              "      <td>795.750000</td>\n",
              "      <td>1.000000</td>\n",
              "      <td>0.000000</td>\n",
              "      <td>2.000000</td>\n",
              "      <td>5.000000</td>\n",
              "      <td>0.000000</td>\n",
              "      <td>334.500000</td>\n",
              "      <td>0.000000</td>\n",
              "    </tr>\n",
              "    <tr>\n",
              "      <th>50%</th>\n",
              "      <td>9478.500000</td>\n",
              "      <td>6.000000</td>\n",
              "      <td>5.000000</td>\n",
              "      <td>991.500000</td>\n",
              "      <td>2.000000</td>\n",
              "      <td>0.000000</td>\n",
              "      <td>3.000000</td>\n",
              "      <td>6.000000</td>\n",
              "      <td>1.000000</td>\n",
              "      <td>480.000000</td>\n",
              "      <td>0.000000</td>\n",
              "    </tr>\n",
              "    <tr>\n",
              "      <th>75%</th>\n",
              "      <td>11601.500000</td>\n",
              "      <td>7.000000</td>\n",
              "      <td>6.000000</td>\n",
              "      <td>1298.250000</td>\n",
              "      <td>2.000000</td>\n",
              "      <td>1.000000</td>\n",
              "      <td>3.000000</td>\n",
              "      <td>7.000000</td>\n",
              "      <td>1.000000</td>\n",
              "      <td>576.000000</td>\n",
              "      <td>1.000000</td>\n",
              "    </tr>\n",
              "    <tr>\n",
              "      <th>max</th>\n",
              "      <td>215245.000000</td>\n",
              "      <td>10.000000</td>\n",
              "      <td>9.000000</td>\n",
              "      <td>6110.000000</td>\n",
              "      <td>3.000000</td>\n",
              "      <td>2.000000</td>\n",
              "      <td>8.000000</td>\n",
              "      <td>14.000000</td>\n",
              "      <td>3.000000</td>\n",
              "      <td>1418.000000</td>\n",
              "      <td>1.000000</td>\n",
              "    </tr>\n",
              "  </tbody>\n",
              "</table>\n",
              "</div>\n",
              "    <div class=\"colab-df-buttons\">\n",
              "\n",
              "  <div class=\"colab-df-container\">\n",
              "    <button class=\"colab-df-convert\" onclick=\"convertToInteractive('df-3911312a-8658-4f97-9633-b9de3d68c3a4')\"\n",
              "            title=\"Convert this dataframe to an interactive table.\"\n",
              "            style=\"display:none;\">\n",
              "\n",
              "  <svg xmlns=\"http://www.w3.org/2000/svg\" height=\"24px\" viewBox=\"0 -960 960 960\">\n",
              "    <path d=\"M120-120v-720h720v720H120Zm60-500h600v-160H180v160Zm220 220h160v-160H400v160Zm0 220h160v-160H400v160ZM180-400h160v-160H180v160Zm440 0h160v-160H620v160ZM180-180h160v-160H180v160Zm440 0h160v-160H620v160Z\"/>\n",
              "  </svg>\n",
              "    </button>\n",
              "\n",
              "  <style>\n",
              "    .colab-df-container {\n",
              "      display:flex;\n",
              "      gap: 12px;\n",
              "    }\n",
              "\n",
              "    .colab-df-convert {\n",
              "      background-color: #E8F0FE;\n",
              "      border: none;\n",
              "      border-radius: 50%;\n",
              "      cursor: pointer;\n",
              "      display: none;\n",
              "      fill: #1967D2;\n",
              "      height: 32px;\n",
              "      padding: 0 0 0 0;\n",
              "      width: 32px;\n",
              "    }\n",
              "\n",
              "    .colab-df-convert:hover {\n",
              "      background-color: #E2EBFA;\n",
              "      box-shadow: 0px 1px 2px rgba(60, 64, 67, 0.3), 0px 1px 3px 1px rgba(60, 64, 67, 0.15);\n",
              "      fill: #174EA6;\n",
              "    }\n",
              "\n",
              "    .colab-df-buttons div {\n",
              "      margin-bottom: 4px;\n",
              "    }\n",
              "\n",
              "    [theme=dark] .colab-df-convert {\n",
              "      background-color: #3B4455;\n",
              "      fill: #D2E3FC;\n",
              "    }\n",
              "\n",
              "    [theme=dark] .colab-df-convert:hover {\n",
              "      background-color: #434B5C;\n",
              "      box-shadow: 0px 1px 3px 1px rgba(0, 0, 0, 0.15);\n",
              "      filter: drop-shadow(0px 1px 2px rgba(0, 0, 0, 0.3));\n",
              "      fill: #FFFFFF;\n",
              "    }\n",
              "  </style>\n",
              "\n",
              "    <script>\n",
              "      const buttonEl =\n",
              "        document.querySelector('#df-3911312a-8658-4f97-9633-b9de3d68c3a4 button.colab-df-convert');\n",
              "      buttonEl.style.display =\n",
              "        google.colab.kernel.accessAllowed ? 'block' : 'none';\n",
              "\n",
              "      async function convertToInteractive(key) {\n",
              "        const element = document.querySelector('#df-3911312a-8658-4f97-9633-b9de3d68c3a4');\n",
              "        const dataTable =\n",
              "          await google.colab.kernel.invokeFunction('convertToInteractive',\n",
              "                                                    [key], {});\n",
              "        if (!dataTable) return;\n",
              "\n",
              "        const docLinkHtml = 'Like what you see? Visit the ' +\n",
              "          '<a target=\"_blank\" href=https://colab.research.google.com/notebooks/data_table.ipynb>data table notebook</a>'\n",
              "          + ' to learn more about interactive tables.';\n",
              "        element.innerHTML = '';\n",
              "        dataTable['output_type'] = 'display_data';\n",
              "        await google.colab.output.renderOutput(dataTable, element);\n",
              "        const docLink = document.createElement('div');\n",
              "        docLink.innerHTML = docLinkHtml;\n",
              "        element.appendChild(docLink);\n",
              "      }\n",
              "    </script>\n",
              "  </div>\n",
              "\n",
              "\n",
              "<div id=\"df-4df90cbe-ec14-4e87-8f94-b23f5476e568\">\n",
              "  <button class=\"colab-df-quickchart\" onclick=\"quickchart('df-4df90cbe-ec14-4e87-8f94-b23f5476e568')\"\n",
              "            title=\"Suggest charts\"\n",
              "            style=\"display:none;\">\n",
              "\n",
              "<svg xmlns=\"http://www.w3.org/2000/svg\" height=\"24px\"viewBox=\"0 0 24 24\"\n",
              "     width=\"24px\">\n",
              "    <g>\n",
              "        <path d=\"M19 3H5c-1.1 0-2 .9-2 2v14c0 1.1.9 2 2 2h14c1.1 0 2-.9 2-2V5c0-1.1-.9-2-2-2zM9 17H7v-7h2v7zm4 0h-2V7h2v10zm4 0h-2v-4h2v4z\"/>\n",
              "    </g>\n",
              "</svg>\n",
              "  </button>\n",
              "\n",
              "<style>\n",
              "  .colab-df-quickchart {\n",
              "      --bg-color: #E8F0FE;\n",
              "      --fill-color: #1967D2;\n",
              "      --hover-bg-color: #E2EBFA;\n",
              "      --hover-fill-color: #174EA6;\n",
              "      --disabled-fill-color: #AAA;\n",
              "      --disabled-bg-color: #DDD;\n",
              "  }\n",
              "\n",
              "  [theme=dark] .colab-df-quickchart {\n",
              "      --bg-color: #3B4455;\n",
              "      --fill-color: #D2E3FC;\n",
              "      --hover-bg-color: #434B5C;\n",
              "      --hover-fill-color: #FFFFFF;\n",
              "      --disabled-bg-color: #3B4455;\n",
              "      --disabled-fill-color: #666;\n",
              "  }\n",
              "\n",
              "  .colab-df-quickchart {\n",
              "    background-color: var(--bg-color);\n",
              "    border: none;\n",
              "    border-radius: 50%;\n",
              "    cursor: pointer;\n",
              "    display: none;\n",
              "    fill: var(--fill-color);\n",
              "    height: 32px;\n",
              "    padding: 0;\n",
              "    width: 32px;\n",
              "  }\n",
              "\n",
              "  .colab-df-quickchart:hover {\n",
              "    background-color: var(--hover-bg-color);\n",
              "    box-shadow: 0 1px 2px rgba(60, 64, 67, 0.3), 0 1px 3px 1px rgba(60, 64, 67, 0.15);\n",
              "    fill: var(--button-hover-fill-color);\n",
              "  }\n",
              "\n",
              "  .colab-df-quickchart-complete:disabled,\n",
              "  .colab-df-quickchart-complete:disabled:hover {\n",
              "    background-color: var(--disabled-bg-color);\n",
              "    fill: var(--disabled-fill-color);\n",
              "    box-shadow: none;\n",
              "  }\n",
              "\n",
              "  .colab-df-spinner {\n",
              "    border: 2px solid var(--fill-color);\n",
              "    border-color: transparent;\n",
              "    border-bottom-color: var(--fill-color);\n",
              "    animation:\n",
              "      spin 1s steps(1) infinite;\n",
              "  }\n",
              "\n",
              "  @keyframes spin {\n",
              "    0% {\n",
              "      border-color: transparent;\n",
              "      border-bottom-color: var(--fill-color);\n",
              "      border-left-color: var(--fill-color);\n",
              "    }\n",
              "    20% {\n",
              "      border-color: transparent;\n",
              "      border-left-color: var(--fill-color);\n",
              "      border-top-color: var(--fill-color);\n",
              "    }\n",
              "    30% {\n",
              "      border-color: transparent;\n",
              "      border-left-color: var(--fill-color);\n",
              "      border-top-color: var(--fill-color);\n",
              "      border-right-color: var(--fill-color);\n",
              "    }\n",
              "    40% {\n",
              "      border-color: transparent;\n",
              "      border-right-color: var(--fill-color);\n",
              "      border-top-color: var(--fill-color);\n",
              "    }\n",
              "    60% {\n",
              "      border-color: transparent;\n",
              "      border-right-color: var(--fill-color);\n",
              "    }\n",
              "    80% {\n",
              "      border-color: transparent;\n",
              "      border-right-color: var(--fill-color);\n",
              "      border-bottom-color: var(--fill-color);\n",
              "    }\n",
              "    90% {\n",
              "      border-color: transparent;\n",
              "      border-bottom-color: var(--fill-color);\n",
              "    }\n",
              "  }\n",
              "</style>\n",
              "\n",
              "  <script>\n",
              "    async function quickchart(key) {\n",
              "      const quickchartButtonEl =\n",
              "        document.querySelector('#' + key + ' button');\n",
              "      quickchartButtonEl.disabled = true;  // To prevent multiple clicks.\n",
              "      quickchartButtonEl.classList.add('colab-df-spinner');\n",
              "      try {\n",
              "        const charts = await google.colab.kernel.invokeFunction(\n",
              "            'suggestCharts', [key], {});\n",
              "      } catch (error) {\n",
              "        console.error('Error during call to suggestCharts:', error);\n",
              "      }\n",
              "      quickchartButtonEl.classList.remove('colab-df-spinner');\n",
              "      quickchartButtonEl.classList.add('colab-df-quickchart-complete');\n",
              "    }\n",
              "    (() => {\n",
              "      let quickchartButtonEl =\n",
              "        document.querySelector('#df-4df90cbe-ec14-4e87-8f94-b23f5476e568 button');\n",
              "      quickchartButtonEl.style.display =\n",
              "        google.colab.kernel.accessAllowed ? 'block' : 'none';\n",
              "    })();\n",
              "  </script>\n",
              "</div>\n",
              "\n",
              "    </div>\n",
              "  </div>\n"
            ],
            "application/vnd.google.colaboratory.intrinsic+json": {
              "type": "dataframe",
              "summary": "{\n  \"name\": \"df\",\n  \"rows\": 8,\n  \"fields\": [\n    {\n      \"column\": \"LotArea\",\n      \"properties\": {\n        \"dtype\": \"number\",\n        \"std\": 73587.37096460979,\n        \"min\": 1300.0,\n        \"max\": 215245.0,\n        \"num_unique_values\": 8,\n        \"samples\": [\n          10516.828082191782,\n          9478.5,\n          1460.0\n        ],\n        \"semantic_type\": \"\",\n        \"description\": \"\"\n      }\n    },\n    {\n      \"column\": \"OverallQual\",\n      \"properties\": {\n        \"dtype\": \"number\",\n        \"std\": 514.3536444206449,\n        \"min\": 1.0,\n        \"max\": 1460.0,\n        \"num_unique_values\": 8,\n        \"samples\": [\n          6.0993150684931505,\n          6.0,\n          1460.0\n        ],\n        \"semantic_type\": \"\",\n        \"description\": \"\"\n      }\n    },\n    {\n      \"column\": \"OverallCond\",\n      \"properties\": {\n        \"dtype\": \"number\",\n        \"std\": 514.543568428961,\n        \"min\": 1.0,\n        \"max\": 1460.0,\n        \"num_unique_values\": 7,\n        \"samples\": [\n          1460.0,\n          5.575342465753424,\n          6.0\n        ],\n        \"semantic_type\": \"\",\n        \"description\": \"\"\n      }\n    },\n    {\n      \"column\": \"TotalBsmtSF\",\n      \"properties\": {\n        \"dtype\": \"number\",\n        \"std\": 1913.0485885494809,\n        \"min\": 0.0,\n        \"max\": 6110.0,\n        \"num_unique_values\": 8,\n        \"samples\": [\n          1057.4294520547944,\n          991.5,\n          1460.0\n        ],\n        \"semantic_type\": \"\",\n        \"description\": \"\"\n      }\n    },\n    {\n      \"column\": \"FullBath\",\n      \"properties\": {\n        \"dtype\": \"number\",\n        \"std\": 515.677865537593,\n        \"min\": 0.0,\n        \"max\": 1460.0,\n        \"num_unique_values\": 7,\n        \"samples\": [\n          1460.0,\n          1.5650684931506849,\n          2.0\n        ],\n        \"semantic_type\": \"\",\n        \"description\": \"\"\n      }\n    },\n    {\n      \"column\": \"HalfBath\",\n      \"properties\": {\n        \"dtype\": \"number\",\n        \"std\": 515.992138496426,\n        \"min\": 0.0,\n        \"max\": 1460.0,\n        \"num_unique_values\": 6,\n        \"samples\": [\n          1460.0,\n          0.38287671232876713,\n          2.0\n        ],\n        \"semantic_type\": \"\",\n        \"description\": \"\"\n      }\n    },\n    {\n      \"column\": \"BedroomAbvGr\",\n      \"properties\": {\n        \"dtype\": \"number\",\n        \"std\": 515.1993302556721,\n        \"min\": 0.0,\n        \"max\": 1460.0,\n        \"num_unique_values\": 7,\n        \"samples\": [\n          1460.0,\n          2.8664383561643834,\n          3.0\n        ],\n        \"semantic_type\": \"\",\n        \"description\": \"\"\n      }\n    },\n    {\n      \"column\": \"TotRmsAbvGrd\",\n      \"properties\": {\n        \"dtype\": \"number\",\n        \"std\": 514.0734868253039,\n        \"min\": 1.6253932905840505,\n        \"max\": 1460.0,\n        \"num_unique_values\": 8,\n        \"samples\": [\n          6.517808219178082,\n          6.0,\n          1460.0\n        ],\n        \"semantic_type\": \"\",\n        \"description\": \"\"\n      }\n    },\n    {\n      \"column\": \"Fireplaces\",\n      \"properties\": {\n        \"dtype\": \"number\",\n        \"std\": 515.8727477820662,\n        \"min\": 0.0,\n        \"max\": 1460.0,\n        \"num_unique_values\": 6,\n        \"samples\": [\n          1460.0,\n          0.613013698630137,\n          3.0\n        ],\n        \"semantic_type\": \"\",\n        \"description\": \"\"\n      }\n    },\n    {\n      \"column\": \"GarageArea\",\n      \"properties\": {\n        \"dtype\": \"number\",\n        \"std\": 536.717113307339,\n        \"min\": 0.0,\n        \"max\": 1460.0,\n        \"num_unique_values\": 8,\n        \"samples\": [\n          472.9801369863014,\n          480.0,\n          1460.0\n        ],\n        \"semantic_type\": \"\",\n        \"description\": \"\"\n      }\n    },\n    {\n      \"column\": \"AboveMedianPrice\",\n      \"properties\": {\n        \"dtype\": \"number\",\n        \"std\": 516.0366560699047,\n        \"min\": 0.0,\n        \"max\": 1460.0,\n        \"num_unique_values\": 5,\n        \"samples\": [\n          0.4986301369863014,\n          1.0,\n          0.5001694437178688\n        ],\n        \"semantic_type\": \"\",\n        \"description\": \"\"\n      }\n    }\n  ]\n}"
            }
          },
          "metadata": {},
          "execution_count": 4
        }
      ],
      "source": [
        "df.describe()\n"
      ]
    },
    {
      "cell_type": "markdown",
      "source": [
        "We convert a DataFrame to a NumPy array for better performance, compatibility with ML libraries, and memory efficiency."
      ],
      "metadata": {
        "id": "6pcXvEm93agt"
      },
      "id": "6pcXvEm93agt"
    },
    {
      "cell_type": "code",
      "execution_count": 6,
      "id": "650a4e9b",
      "metadata": {
        "id": "650a4e9b",
        "colab": {
          "base_uri": "https://localhost:8080/"
        },
        "outputId": "fab132d0-3f91-47e1-b080-842f867e445f"
      },
      "outputs": [
        {
          "output_type": "execute_result",
          "data": {
            "text/plain": [
              "array([[ 8450,     7,     5, ...,     0,   548,     1],\n",
              "       [ 9600,     6,     8, ...,     1,   460,     1],\n",
              "       [11250,     7,     5, ...,     1,   608,     1],\n",
              "       ...,\n",
              "       [ 9042,     7,     9, ...,     2,   252,     1],\n",
              "       [ 9717,     5,     6, ...,     0,   240,     0],\n",
              "       [ 9937,     5,     6, ...,     0,   276,     0]])"
            ]
          },
          "metadata": {},
          "execution_count": 6
        }
      ],
      "source": [
        "#convert it into arrays\n",
        "dataset = df.values\n",
        "dataset\n"
      ]
    },
    {
      "cell_type": "code",
      "execution_count": 7,
      "id": "bee2e2f2",
      "metadata": {
        "id": "bee2e2f2"
      },
      "outputs": [],
      "source": [
        "# Select all rows and the first 10 columns from the dataset\n",
        "X = dataset[:, 0:10]\n"
      ]
    },
    {
      "cell_type": "code",
      "execution_count": 8,
      "id": "c497907a",
      "metadata": {
        "id": "c497907a"
      },
      "outputs": [],
      "source": [
        "# Select all rows and the 11th column (index 10) from the dataset\n",
        "Y = dataset[:, 10]\n"
      ]
    },
    {
      "cell_type": "code",
      "execution_count": 12,
      "id": "9cd71437",
      "metadata": {
        "id": "9cd71437"
      },
      "outputs": [],
      "source": [
        "# Initialize the MinMaxScaler and scale X to the range [0, 1]\n",
        "min_max_scaler = preprocessing.MinMaxScaler()\n",
        "X_scale = min_max_scaler.fit_transform(X)"
      ]
    },
    {
      "cell_type": "markdown",
      "source": [
        "# Validation vs. Test Sets\n",
        "Validation Set: A subset of the data used during training to tune hyperparameters and make adjustments. It helps in selecting the best model configuration.\n",
        "Test Set: A separate subset used after training to evaluate the final model's performance. It provides an unbiased measure of how well the model generalizes to new, unseen data."
      ],
      "metadata": {
        "id": "G_yirYtO4w8E"
      },
      "id": "G_yirYtO4w8E"
    },
    {
      "cell_type": "code",
      "execution_count": 13,
      "id": "04e98dba",
      "metadata": {
        "id": "04e98dba"
      },
      "outputs": [],
      "source": [
        "# Split the scaled features (X_scale) and target variable (Y) into training and validation+test sets (70% train, 30% val+test)\n",
        "X_train, X_val_and_test, Y_train, Y_val_and_test = train_test_split(X_scale, Y, test_size=0.3)"
      ]
    },
    {
      "cell_type": "code",
      "execution_count": 14,
      "id": "eb563dcc",
      "metadata": {
        "id": "eb563dcc"
      },
      "outputs": [],
      "source": [
        "# Further split the validation+test set into validation and test sets (50% validation, 50% test)\n",
        "X_val, X_test, Y_val, Y_test = train_test_split(X_val_and_test, Y_val_and_test, test_size=0.5)"
      ]
    },
    {
      "cell_type": "code",
      "execution_count": null,
      "id": "326b3fb7",
      "metadata": {
        "colab": {
          "base_uri": "https://localhost:8080/"
        },
        "id": "326b3fb7",
        "outputId": "a4994662-eb4c-405c-e523-5947882cbaf3"
      },
      "outputs": [
        {
          "name": "stdout",
          "output_type": "stream",
          "text": [
            "(1022, 10) (219, 10) (219, 10) (1022,) (219,) (219,)\n"
          ]
        }
      ],
      "source": [
        "print(X_train.shape, X_val.shape, X_test.shape, Y_train.shape, Y_val.shape, Y_test.shape)"
      ]
    },
    {
      "cell_type": "code",
      "execution_count": 16,
      "id": "8cb41642",
      "metadata": {
        "colab": {
          "base_uri": "https://localhost:8080/"
        },
        "id": "8cb41642",
        "outputId": "06468fe2-180d-4a46-a201-85b44bdcab9a"
      },
      "outputs": [
        {
          "output_type": "stream",
          "name": "stdout",
          "text": [
            "Requirement already satisfied: keras in /usr/local/lib/python3.10/dist-packages (2.15.0)\n"
          ]
        }
      ],
      "source": [
        "!pip install keras\n"
      ]
    },
    {
      "cell_type": "code",
      "execution_count": 17,
      "id": "4b0c3bcf",
      "metadata": {
        "id": "4b0c3bcf"
      },
      "outputs": [],
      "source": [
        "from keras.models import Sequential\n",
        "from keras.layers import Dense"
      ]
    },
    {
      "cell_type": "markdown",
      "source": [
        "# Define a neural network model with:\n",
        "\n",
        "An input layer with 10 features and 32 neurons (ReLU activation)\n",
        "A hidden layer with 32 neurons (ReLU activation)\n",
        "An output layer with 1 neuron (Sigmoid activation for binary classification)"
      ],
      "metadata": {
        "id": "rI-6EmmH8kdh"
      },
      "id": "rI-6EmmH8kdh"
    },
    {
      "cell_type": "code",
      "execution_count": 18,
      "id": "f3cdbe33",
      "metadata": {
        "id": "f3cdbe33"
      },
      "outputs": [],
      "source": [
        "model = Sequential([\n",
        "    Dense(32, activation='relu', input_shape=(10,)),\n",
        "    Dense(32, activation='relu'),\n",
        "    Dense(1, activation='sigmoid'),\n",
        "])"
      ]
    },
    {
      "cell_type": "markdown",
      "source": [
        "# Compile the model with:\n",
        "\n",
        "Stochastic Gradient Descent (SGD) optimizer\n",
        "Binary Crossentropy loss function (for binary classification)\n",
        "Accuracy as the evaluation metric"
      ],
      "metadata": {
        "id": "_HPz-7my8_H2"
      },
      "id": "_HPz-7my8_H2"
    },
    {
      "cell_type": "code",
      "execution_count": 19,
      "id": "ec27ccb4",
      "metadata": {
        "id": "ec27ccb4"
      },
      "outputs": [],
      "source": [
        "model.compile(optimizer='sgd',\n",
        "              loss='binary_crossentropy',\n",
        "              metrics=['accuracy'])"
      ]
    },
    {
      "cell_type": "markdown",
      "source": [
        "# Train the model with:\n",
        "\n",
        "Training data (X_train, Y_train)\n",
        "Batch size of 32 and 100 epochs\n",
        "Validation data (X_val, Y_val) to monitor performance during training"
      ],
      "metadata": {
        "id": "IGGmiUBX9Ll0"
      },
      "id": "IGGmiUBX9Ll0"
    },
    {
      "cell_type": "code",
      "execution_count": 20,
      "id": "d7080c8f",
      "metadata": {
        "colab": {
          "base_uri": "https://localhost:8080/"
        },
        "id": "d7080c8f",
        "outputId": "683e0550-59fc-4f54-b046-8c6012a607c9",
        "collapsed": true
      },
      "outputs": [
        {
          "output_type": "stream",
          "name": "stdout",
          "text": [
            "Epoch 1/100\n",
            "32/32 [==============================] - 3s 12ms/step - loss: 0.6985 - accuracy: 0.4902 - val_loss: 0.6928 - val_accuracy: 0.5205\n",
            "Epoch 2/100\n",
            "32/32 [==============================] - 0s 3ms/step - loss: 0.6931 - accuracy: 0.4912 - val_loss: 0.6872 - val_accuracy: 0.5205\n",
            "Epoch 3/100\n",
            "32/32 [==============================] - 0s 3ms/step - loss: 0.6876 - accuracy: 0.4941 - val_loss: 0.6817 - val_accuracy: 0.5388\n",
            "Epoch 4/100\n",
            "32/32 [==============================] - 0s 4ms/step - loss: 0.6823 - accuracy: 0.5108 - val_loss: 0.6758 - val_accuracy: 0.5571\n",
            "Epoch 5/100\n",
            "32/32 [==============================] - 0s 3ms/step - loss: 0.6770 - accuracy: 0.5284 - val_loss: 0.6698 - val_accuracy: 0.6119\n",
            "Epoch 6/100\n",
            "32/32 [==============================] - 0s 4ms/step - loss: 0.6714 - accuracy: 0.6057 - val_loss: 0.6634 - val_accuracy: 0.6804\n",
            "Epoch 7/100\n",
            "32/32 [==============================] - 0s 3ms/step - loss: 0.6655 - accuracy: 0.6908 - val_loss: 0.6568 - val_accuracy: 0.7260\n",
            "Epoch 8/100\n",
            "32/32 [==============================] - 0s 3ms/step - loss: 0.6596 - accuracy: 0.6957 - val_loss: 0.6501 - val_accuracy: 0.7671\n",
            "Epoch 9/100\n",
            "32/32 [==============================] - 0s 4ms/step - loss: 0.6532 - accuracy: 0.7417 - val_loss: 0.6430 - val_accuracy: 0.7991\n",
            "Epoch 10/100\n",
            "32/32 [==============================] - 0s 4ms/step - loss: 0.6466 - accuracy: 0.7583 - val_loss: 0.6359 - val_accuracy: 0.8447\n",
            "Epoch 11/100\n",
            "32/32 [==============================] - 0s 3ms/step - loss: 0.6398 - accuracy: 0.7828 - val_loss: 0.6284 - val_accuracy: 0.8721\n",
            "Epoch 12/100\n",
            "32/32 [==============================] - 0s 3ms/step - loss: 0.6329 - accuracy: 0.8053 - val_loss: 0.6206 - val_accuracy: 0.8813\n",
            "Epoch 13/100\n",
            "32/32 [==============================] - 0s 4ms/step - loss: 0.6259 - accuracy: 0.8102 - val_loss: 0.6124 - val_accuracy: 0.8813\n",
            "Epoch 14/100\n",
            "32/32 [==============================] - 0s 3ms/step - loss: 0.6186 - accuracy: 0.8112 - val_loss: 0.6041 - val_accuracy: 0.8858\n",
            "Epoch 15/100\n",
            "32/32 [==============================] - 0s 3ms/step - loss: 0.6111 - accuracy: 0.8190 - val_loss: 0.5955 - val_accuracy: 0.8904\n",
            "Epoch 16/100\n",
            "32/32 [==============================] - 0s 4ms/step - loss: 0.6034 - accuracy: 0.8219 - val_loss: 0.5866 - val_accuracy: 0.8995\n",
            "Epoch 17/100\n",
            "32/32 [==============================] - 0s 4ms/step - loss: 0.5952 - accuracy: 0.8307 - val_loss: 0.5775 - val_accuracy: 0.9041\n",
            "Epoch 18/100\n",
            "32/32 [==============================] - 0s 4ms/step - loss: 0.5867 - accuracy: 0.8395 - val_loss: 0.5678 - val_accuracy: 0.9041\n",
            "Epoch 19/100\n",
            "32/32 [==============================] - 0s 3ms/step - loss: 0.5780 - accuracy: 0.8444 - val_loss: 0.5578 - val_accuracy: 0.9041\n",
            "Epoch 20/100\n",
            "32/32 [==============================] - 0s 3ms/step - loss: 0.5692 - accuracy: 0.8386 - val_loss: 0.5480 - val_accuracy: 0.9132\n",
            "Epoch 21/100\n",
            "32/32 [==============================] - 0s 3ms/step - loss: 0.5603 - accuracy: 0.8405 - val_loss: 0.5379 - val_accuracy: 0.9178\n",
            "Epoch 22/100\n",
            "32/32 [==============================] - 0s 3ms/step - loss: 0.5509 - accuracy: 0.8483 - val_loss: 0.5280 - val_accuracy: 0.9224\n",
            "Epoch 23/100\n",
            "32/32 [==============================] - 0s 3ms/step - loss: 0.5417 - accuracy: 0.8474 - val_loss: 0.5173 - val_accuracy: 0.9224\n",
            "Epoch 24/100\n",
            "32/32 [==============================] - 0s 3ms/step - loss: 0.5322 - accuracy: 0.8464 - val_loss: 0.5083 - val_accuracy: 0.9224\n",
            "Epoch 25/100\n",
            "32/32 [==============================] - 0s 3ms/step - loss: 0.5228 - accuracy: 0.8513 - val_loss: 0.4970 - val_accuracy: 0.9269\n",
            "Epoch 26/100\n",
            "32/32 [==============================] - 0s 4ms/step - loss: 0.5133 - accuracy: 0.8532 - val_loss: 0.4862 - val_accuracy: 0.9269\n",
            "Epoch 27/100\n",
            "32/32 [==============================] - 0s 4ms/step - loss: 0.5040 - accuracy: 0.8503 - val_loss: 0.4757 - val_accuracy: 0.9224\n",
            "Epoch 28/100\n",
            "32/32 [==============================] - 0s 7ms/step - loss: 0.4945 - accuracy: 0.8532 - val_loss: 0.4656 - val_accuracy: 0.9224\n",
            "Epoch 29/100\n",
            "32/32 [==============================] - 0s 6ms/step - loss: 0.4855 - accuracy: 0.8552 - val_loss: 0.4561 - val_accuracy: 0.9224\n",
            "Epoch 30/100\n",
            "32/32 [==============================] - 0s 6ms/step - loss: 0.4760 - accuracy: 0.8601 - val_loss: 0.4462 - val_accuracy: 0.9132\n",
            "Epoch 31/100\n",
            "32/32 [==============================] - 0s 6ms/step - loss: 0.4670 - accuracy: 0.8591 - val_loss: 0.4366 - val_accuracy: 0.9132\n",
            "Epoch 32/100\n",
            "32/32 [==============================] - 0s 11ms/step - loss: 0.4583 - accuracy: 0.8591 - val_loss: 0.4278 - val_accuracy: 0.9132\n",
            "Epoch 33/100\n",
            "32/32 [==============================] - 0s 8ms/step - loss: 0.4494 - accuracy: 0.8591 - val_loss: 0.4178 - val_accuracy: 0.9132\n",
            "Epoch 34/100\n",
            "32/32 [==============================] - 0s 7ms/step - loss: 0.4411 - accuracy: 0.8611 - val_loss: 0.4082 - val_accuracy: 0.9132\n",
            "Epoch 35/100\n",
            "32/32 [==============================] - 0s 10ms/step - loss: 0.4333 - accuracy: 0.8552 - val_loss: 0.3997 - val_accuracy: 0.9132\n",
            "Epoch 36/100\n",
            "32/32 [==============================] - 0s 7ms/step - loss: 0.4253 - accuracy: 0.8591 - val_loss: 0.3923 - val_accuracy: 0.9178\n",
            "Epoch 37/100\n",
            "32/32 [==============================] - 0s 9ms/step - loss: 0.4179 - accuracy: 0.8562 - val_loss: 0.3869 - val_accuracy: 0.9178\n",
            "Epoch 38/100\n",
            "32/32 [==============================] - 0s 6ms/step - loss: 0.4106 - accuracy: 0.8601 - val_loss: 0.3801 - val_accuracy: 0.9178\n",
            "Epoch 39/100\n",
            "32/32 [==============================] - 0s 8ms/step - loss: 0.4041 - accuracy: 0.8581 - val_loss: 0.3709 - val_accuracy: 0.9178\n",
            "Epoch 40/100\n",
            "32/32 [==============================] - 0s 6ms/step - loss: 0.3974 - accuracy: 0.8601 - val_loss: 0.3637 - val_accuracy: 0.9178\n",
            "Epoch 41/100\n",
            "32/32 [==============================] - 0s 7ms/step - loss: 0.3912 - accuracy: 0.8620 - val_loss: 0.3610 - val_accuracy: 0.9087\n",
            "Epoch 42/100\n",
            "32/32 [==============================] - 0s 7ms/step - loss: 0.3856 - accuracy: 0.8650 - val_loss: 0.3500 - val_accuracy: 0.9178\n",
            "Epoch 43/100\n",
            "32/32 [==============================] - 0s 9ms/step - loss: 0.3802 - accuracy: 0.8601 - val_loss: 0.3423 - val_accuracy: 0.9178\n",
            "Epoch 44/100\n",
            "32/32 [==============================] - 0s 8ms/step - loss: 0.3748 - accuracy: 0.8601 - val_loss: 0.3387 - val_accuracy: 0.9178\n",
            "Epoch 45/100\n",
            "32/32 [==============================] - 0s 7ms/step - loss: 0.3700 - accuracy: 0.8640 - val_loss: 0.3319 - val_accuracy: 0.9178\n",
            "Epoch 46/100\n",
            "32/32 [==============================] - 0s 5ms/step - loss: 0.3653 - accuracy: 0.8640 - val_loss: 0.3309 - val_accuracy: 0.9132\n",
            "Epoch 47/100\n",
            "32/32 [==============================] - 0s 9ms/step - loss: 0.3607 - accuracy: 0.8679 - val_loss: 0.3274 - val_accuracy: 0.9087\n",
            "Epoch 48/100\n",
            "32/32 [==============================] - 0s 15ms/step - loss: 0.3568 - accuracy: 0.8679 - val_loss: 0.3194 - val_accuracy: 0.9178\n",
            "Epoch 49/100\n",
            "32/32 [==============================] - 0s 7ms/step - loss: 0.3529 - accuracy: 0.8611 - val_loss: 0.3183 - val_accuracy: 0.9087\n",
            "Epoch 50/100\n",
            "32/32 [==============================] - 1s 20ms/step - loss: 0.3493 - accuracy: 0.8679 - val_loss: 0.3121 - val_accuracy: 0.9087\n",
            "Epoch 51/100\n",
            "32/32 [==============================] - 0s 7ms/step - loss: 0.3454 - accuracy: 0.8640 - val_loss: 0.3147 - val_accuracy: 0.9041\n",
            "Epoch 52/100\n",
            "32/32 [==============================] - 0s 6ms/step - loss: 0.3427 - accuracy: 0.8708 - val_loss: 0.3082 - val_accuracy: 0.9087\n",
            "Epoch 53/100\n",
            "32/32 [==============================] - 0s 7ms/step - loss: 0.3396 - accuracy: 0.8669 - val_loss: 0.3009 - val_accuracy: 0.9087\n",
            "Epoch 54/100\n",
            "32/32 [==============================] - 0s 6ms/step - loss: 0.3368 - accuracy: 0.8669 - val_loss: 0.2996 - val_accuracy: 0.9087\n",
            "Epoch 55/100\n",
            "32/32 [==============================] - 0s 7ms/step - loss: 0.3337 - accuracy: 0.8748 - val_loss: 0.2941 - val_accuracy: 0.9087\n",
            "Epoch 56/100\n",
            "32/32 [==============================] - 0s 6ms/step - loss: 0.3314 - accuracy: 0.8728 - val_loss: 0.2925 - val_accuracy: 0.9087\n",
            "Epoch 57/100\n",
            "32/32 [==============================] - 0s 6ms/step - loss: 0.3288 - accuracy: 0.8689 - val_loss: 0.2915 - val_accuracy: 0.9087\n",
            "Epoch 58/100\n",
            "32/32 [==============================] - 0s 7ms/step - loss: 0.3265 - accuracy: 0.8738 - val_loss: 0.2881 - val_accuracy: 0.9087\n",
            "Epoch 59/100\n",
            "32/32 [==============================] - 0s 6ms/step - loss: 0.3241 - accuracy: 0.8748 - val_loss: 0.2870 - val_accuracy: 0.9087\n",
            "Epoch 60/100\n",
            "32/32 [==============================] - 0s 7ms/step - loss: 0.3220 - accuracy: 0.8767 - val_loss: 0.2825 - val_accuracy: 0.9087\n",
            "Epoch 61/100\n",
            "32/32 [==============================] - 0s 6ms/step - loss: 0.3202 - accuracy: 0.8718 - val_loss: 0.2827 - val_accuracy: 0.9087\n",
            "Epoch 62/100\n",
            "32/32 [==============================] - 0s 6ms/step - loss: 0.3190 - accuracy: 0.8728 - val_loss: 0.2812 - val_accuracy: 0.9087\n",
            "Epoch 63/100\n",
            "32/32 [==============================] - 0s 7ms/step - loss: 0.3169 - accuracy: 0.8787 - val_loss: 0.2764 - val_accuracy: 0.9087\n",
            "Epoch 64/100\n",
            "32/32 [==============================] - 0s 7ms/step - loss: 0.3153 - accuracy: 0.8738 - val_loss: 0.2777 - val_accuracy: 0.9087\n",
            "Epoch 65/100\n",
            "32/32 [==============================] - 0s 8ms/step - loss: 0.3138 - accuracy: 0.8767 - val_loss: 0.2748 - val_accuracy: 0.9087\n",
            "Epoch 66/100\n",
            "32/32 [==============================] - 0s 5ms/step - loss: 0.3120 - accuracy: 0.8738 - val_loss: 0.2744 - val_accuracy: 0.9087\n",
            "Epoch 67/100\n",
            "32/32 [==============================] - 0s 7ms/step - loss: 0.3108 - accuracy: 0.8787 - val_loss: 0.2700 - val_accuracy: 0.9087\n",
            "Epoch 68/100\n",
            "32/32 [==============================] - 0s 7ms/step - loss: 0.3090 - accuracy: 0.8757 - val_loss: 0.2736 - val_accuracy: 0.9087\n",
            "Epoch 69/100\n",
            "32/32 [==============================] - 0s 8ms/step - loss: 0.3081 - accuracy: 0.8787 - val_loss: 0.2679 - val_accuracy: 0.9087\n",
            "Epoch 70/100\n",
            "32/32 [==============================] - 0s 6ms/step - loss: 0.3062 - accuracy: 0.8767 - val_loss: 0.2702 - val_accuracy: 0.9087\n",
            "Epoch 71/100\n",
            "32/32 [==============================] - 0s 5ms/step - loss: 0.3055 - accuracy: 0.8826 - val_loss: 0.2624 - val_accuracy: 0.9087\n",
            "Epoch 72/100\n",
            "32/32 [==============================] - 0s 6ms/step - loss: 0.3046 - accuracy: 0.8787 - val_loss: 0.2695 - val_accuracy: 0.9132\n",
            "Epoch 73/100\n",
            "32/32 [==============================] - 0s 5ms/step - loss: 0.3034 - accuracy: 0.8816 - val_loss: 0.2590 - val_accuracy: 0.9087\n",
            "Epoch 74/100\n",
            "32/32 [==============================] - 0s 5ms/step - loss: 0.3029 - accuracy: 0.8767 - val_loss: 0.2589 - val_accuracy: 0.9087\n",
            "Epoch 75/100\n",
            "32/32 [==============================] - 0s 5ms/step - loss: 0.3016 - accuracy: 0.8767 - val_loss: 0.2585 - val_accuracy: 0.9087\n",
            "Epoch 76/100\n",
            "32/32 [==============================] - 0s 5ms/step - loss: 0.3005 - accuracy: 0.8738 - val_loss: 0.2623 - val_accuracy: 0.9087\n",
            "Epoch 77/100\n",
            "32/32 [==============================] - 0s 3ms/step - loss: 0.2999 - accuracy: 0.8777 - val_loss: 0.2613 - val_accuracy: 0.9087\n",
            "Epoch 78/100\n",
            "32/32 [==============================] - 0s 5ms/step - loss: 0.2982 - accuracy: 0.8757 - val_loss: 0.2541 - val_accuracy: 0.9087\n",
            "Epoch 79/100\n",
            "32/32 [==============================] - 0s 3ms/step - loss: 0.2978 - accuracy: 0.8796 - val_loss: 0.2545 - val_accuracy: 0.9087\n",
            "Epoch 80/100\n",
            "32/32 [==============================] - 0s 4ms/step - loss: 0.2968 - accuracy: 0.8826 - val_loss: 0.2532 - val_accuracy: 0.9087\n",
            "Epoch 81/100\n",
            "32/32 [==============================] - 0s 3ms/step - loss: 0.2960 - accuracy: 0.8806 - val_loss: 0.2560 - val_accuracy: 0.9087\n",
            "Epoch 82/100\n",
            "32/32 [==============================] - 0s 3ms/step - loss: 0.2948 - accuracy: 0.8796 - val_loss: 0.2584 - val_accuracy: 0.9087\n",
            "Epoch 83/100\n",
            "32/32 [==============================] - 0s 4ms/step - loss: 0.2944 - accuracy: 0.8796 - val_loss: 0.2593 - val_accuracy: 0.9087\n",
            "Epoch 84/100\n",
            "32/32 [==============================] - 0s 4ms/step - loss: 0.2933 - accuracy: 0.8816 - val_loss: 0.2586 - val_accuracy: 0.9087\n",
            "Epoch 85/100\n",
            "32/32 [==============================] - 0s 4ms/step - loss: 0.2932 - accuracy: 0.8845 - val_loss: 0.2483 - val_accuracy: 0.9087\n",
            "Epoch 86/100\n",
            "32/32 [==============================] - 0s 4ms/step - loss: 0.2923 - accuracy: 0.8806 - val_loss: 0.2455 - val_accuracy: 0.9087\n",
            "Epoch 87/100\n",
            "32/32 [==============================] - 0s 3ms/step - loss: 0.2916 - accuracy: 0.8836 - val_loss: 0.2472 - val_accuracy: 0.9087\n",
            "Epoch 88/100\n",
            "32/32 [==============================] - 0s 3ms/step - loss: 0.2905 - accuracy: 0.8836 - val_loss: 0.2472 - val_accuracy: 0.9087\n",
            "Epoch 89/100\n",
            "32/32 [==============================] - 0s 3ms/step - loss: 0.2896 - accuracy: 0.8845 - val_loss: 0.2403 - val_accuracy: 0.9087\n",
            "Epoch 90/100\n",
            "32/32 [==============================] - 0s 3ms/step - loss: 0.2897 - accuracy: 0.8826 - val_loss: 0.2411 - val_accuracy: 0.9087\n",
            "Epoch 91/100\n",
            "32/32 [==============================] - 0s 3ms/step - loss: 0.2883 - accuracy: 0.8806 - val_loss: 0.2489 - val_accuracy: 0.9087\n",
            "Epoch 92/100\n",
            "32/32 [==============================] - 0s 3ms/step - loss: 0.2877 - accuracy: 0.8826 - val_loss: 0.2428 - val_accuracy: 0.9087\n",
            "Epoch 93/100\n",
            "32/32 [==============================] - 0s 3ms/step - loss: 0.2871 - accuracy: 0.8826 - val_loss: 0.2488 - val_accuracy: 0.9087\n",
            "Epoch 94/100\n",
            "32/32 [==============================] - 0s 4ms/step - loss: 0.2866 - accuracy: 0.8875 - val_loss: 0.2418 - val_accuracy: 0.9087\n",
            "Epoch 95/100\n",
            "32/32 [==============================] - 0s 4ms/step - loss: 0.2866 - accuracy: 0.8816 - val_loss: 0.2450 - val_accuracy: 0.9087\n",
            "Epoch 96/100\n",
            "32/32 [==============================] - 0s 3ms/step - loss: 0.2859 - accuracy: 0.8816 - val_loss: 0.2365 - val_accuracy: 0.9087\n",
            "Epoch 97/100\n",
            "32/32 [==============================] - 0s 3ms/step - loss: 0.2852 - accuracy: 0.8875 - val_loss: 0.2365 - val_accuracy: 0.9087\n",
            "Epoch 98/100\n",
            "32/32 [==============================] - 0s 3ms/step - loss: 0.2836 - accuracy: 0.8826 - val_loss: 0.2451 - val_accuracy: 0.9132\n",
            "Epoch 99/100\n",
            "32/32 [==============================] - 0s 3ms/step - loss: 0.2830 - accuracy: 0.8845 - val_loss: 0.2471 - val_accuracy: 0.9132\n",
            "Epoch 100/100\n",
            "32/32 [==============================] - 0s 3ms/step - loss: 0.2832 - accuracy: 0.8875 - val_loss: 0.2375 - val_accuracy: 0.9132\n"
          ]
        }
      ],
      "source": [
        "hist = model.fit(X_train, Y_train,\n",
        "          batch_size=32, epochs=100,\n",
        "          validation_data=(X_val, Y_val))\n"
      ]
    },
    {
      "cell_type": "code",
      "execution_count": 21,
      "id": "e082ffe1",
      "metadata": {
        "colab": {
          "base_uri": "https://localhost:8080/"
        },
        "id": "e082ffe1",
        "outputId": "65f0aeea-aea8-4270-e742-b7bd20945171"
      },
      "outputs": [
        {
          "output_type": "stream",
          "name": "stdout",
          "text": [
            "7/7 [==============================] - 0s 2ms/step - loss: 0.2905 - accuracy: 0.8904\n"
          ]
        },
        {
          "output_type": "execute_result",
          "data": {
            "text/plain": [
              "0.8904109597206116"
            ]
          },
          "metadata": {},
          "execution_count": 21
        }
      ],
      "source": [
        "# Evaluate the model on the test set (X_test, Y_test) and return the accuracy\n",
        "model.evaluate(X_test, Y_test)[1]\n"
      ]
    },
    {
      "cell_type": "markdown",
      "source": [
        "# visualize how the model's loss evolves during training and validation.\n",
        "hist.history['loss'] is the training loss.\n",
        "hist.history['val_loss'] is the validation loss."
      ],
      "metadata": {
        "id": "aIKPeDmI7vaW"
      },
      "id": "aIKPeDmI7vaW"
    },
    {
      "cell_type": "code",
      "execution_count": 24,
      "id": "cc9f3ffe",
      "metadata": {
        "colab": {
          "base_uri": "https://localhost:8080/",
          "height": 472
        },
        "id": "cc9f3ffe",
        "outputId": "a1e6e831-5b5f-479d-beba-06649b88734c"
      },
      "outputs": [
        {
          "output_type": "display_data",
          "data": {
            "text/plain": [
              "<Figure size 640x480 with 1 Axes>"
            ],
            "image/png": "[encoded data removed]"
          },
          "metadata": {}
        }
      ],
      "source": [
        "\n",
        "plt.plot(hist.history['loss'])\n",
        "plt.plot(hist.history['val_loss'])\n",
        "plt.title('Model loss')\n",
        "plt.ylabel('Loss')\n",
        "plt.xlabel('Epoch')\n",
        "plt.legend(['Train', 'Val'], loc='upper right')\n",
        "plt.show()\n"
      ]
    },
    {
      "cell_type": "markdown",
      "source": [
        "# This plot shows how the model's accuracy improves during training and validation.\n",
        "hist.history['accuracy'] is the training accuracy\n",
        "hist.history['val_accuracy'] is the validation accuracy"
      ],
      "metadata": {
        "id": "kUYXChZF8Yyl"
      },
      "id": "kUYXChZF8Yyl"
    },
    {
      "cell_type": "code",
      "execution_count": 25,
      "id": "c6e1d415",
      "metadata": {
        "colab": {
          "base_uri": "https://localhost:8080/",
          "height": 472
        },
        "id": "c6e1d415",
        "outputId": "e0853fd9-e6db-48df-cfdb-d8911655a4ca"
      },
      "outputs": [
        {
          "output_type": "display_data",
          "data": {
            "text/plain": [
              "<Figure size 640x480 with 1 Axes>"
            ],
            "image/png": "[encoded data removed]"
          },
          "metadata": {}
        }
      ],
      "source": [
        "plt.plot(hist.history['accuracy'])\n",
        "plt.plot(hist.history['val_accuracy'])\n",
        "plt.title('Model accuracy')\n",
        "plt.ylabel('Accuracy')\n",
        "plt.xlabel('Epoch')\n",
        "plt.legend(['Train', 'Val'], loc='lower right')\n",
        "plt.show()\n"
      ]
    },
    {
      "cell_type": "markdown",
      "source": [
        "# Adding Regularization to Neural Network\n",
        "The new model (model_2) has increased complexity with more layers and neurons.\n",
        " This step helps the model learn more intricate patterns from the data. We compile and train it to evaluate if the added complexity improves performance."
      ],
      "metadata": {
        "id": "RTqw_6CA7qUT"
      },
      "id": "RTqw_6CA7qUT"
    },
    {
      "cell_type": "code",
      "execution_count": 26,
      "id": "ea9a46e6",
      "metadata": {
        "colab": {
          "base_uri": "https://localhost:8080/"
        },
        "id": "ea9a46e6",
        "outputId": "d72f2c99-63cc-42dd-b440-10e55f48528f",
        "collapsed": true
      },
      "outputs": [
        {
          "output_type": "stream",
          "name": "stdout",
          "text": [
            "Epoch 1/100\n",
            "32/32 [==============================] - 3s 56ms/step - loss: 0.4896 - accuracy: 0.7720 - val_loss: 0.3454 - val_accuracy: 0.8995\n",
            "Epoch 2/100\n",
            "32/32 [==============================] - 2s 50ms/step - loss: 0.3519 - accuracy: 0.8454 - val_loss: 0.2474 - val_accuracy: 0.8904\n",
            "Epoch 3/100\n",
            "32/32 [==============================] - 2s 47ms/step - loss: 0.3238 - accuracy: 0.8640 - val_loss: 0.2143 - val_accuracy: 0.9178\n",
            "Epoch 4/100\n",
            "32/32 [==============================] - 2s 58ms/step - loss: 0.3012 - accuracy: 0.8689 - val_loss: 0.2802 - val_accuracy: 0.8813\n",
            "Epoch 5/100\n",
            "32/32 [==============================] - 2s 73ms/step - loss: 0.3192 - accuracy: 0.8679 - val_loss: 0.1973 - val_accuracy: 0.9224\n",
            "Epoch 6/100\n",
            "32/32 [==============================] - 2s 55ms/step - loss: 0.2665 - accuracy: 0.8855 - val_loss: 0.2347 - val_accuracy: 0.8950\n",
            "Epoch 7/100\n",
            "32/32 [==============================] - 1s 46ms/step - loss: 0.2856 - accuracy: 0.8708 - val_loss: 0.2023 - val_accuracy: 0.9178\n",
            "Epoch 8/100\n",
            "32/32 [==============================] - 2s 47ms/step - loss: 0.2967 - accuracy: 0.8669 - val_loss: 0.2136 - val_accuracy: 0.9087\n",
            "Epoch 9/100\n",
            "32/32 [==============================] - 2s 49ms/step - loss: 0.2584 - accuracy: 0.8953 - val_loss: 0.1733 - val_accuracy: 0.9269\n",
            "Epoch 10/100\n",
            "32/32 [==============================] - 2s 47ms/step - loss: 0.2330 - accuracy: 0.9041 - val_loss: 0.1755 - val_accuracy: 0.9132\n",
            "Epoch 11/100\n",
            "32/32 [==============================] - 1s 47ms/step - loss: 0.2606 - accuracy: 0.8767 - val_loss: 0.1938 - val_accuracy: 0.9132\n",
            "Epoch 12/100\n",
            "32/32 [==============================] - 2s 47ms/step - loss: 0.2197 - accuracy: 0.9110 - val_loss: 0.1711 - val_accuracy: 0.9269\n",
            "Epoch 13/100\n",
            "32/32 [==============================] - 2s 73ms/step - loss: 0.2419 - accuracy: 0.8992 - val_loss: 0.1982 - val_accuracy: 0.9224\n",
            "Epoch 14/100\n",
            "32/32 [==============================] - 2s 70ms/step - loss: 0.2392 - accuracy: 0.8943 - val_loss: 0.1748 - val_accuracy: 0.9224\n",
            "Epoch 15/100\n",
            "32/32 [==============================] - 1s 46ms/step - loss: 0.2486 - accuracy: 0.9031 - val_loss: 0.1716 - val_accuracy: 0.9315\n",
            "Epoch 16/100\n",
            "32/32 [==============================] - 1s 46ms/step - loss: 0.2304 - accuracy: 0.9022 - val_loss: 0.1793 - val_accuracy: 0.9315\n",
            "Epoch 17/100\n",
            "32/32 [==============================] - 1s 46ms/step - loss: 0.2314 - accuracy: 0.9002 - val_loss: 0.1973 - val_accuracy: 0.8995\n",
            "Epoch 18/100\n",
            "32/32 [==============================] - 1s 47ms/step - loss: 0.2293 - accuracy: 0.9159 - val_loss: 0.1676 - val_accuracy: 0.9269\n",
            "Epoch 19/100\n",
            "32/32 [==============================] - 2s 47ms/step - loss: 0.2144 - accuracy: 0.9119 - val_loss: 0.1630 - val_accuracy: 0.9224\n",
            "Epoch 20/100\n",
            "32/32 [==============================] - 1s 46ms/step - loss: 0.2302 - accuracy: 0.9041 - val_loss: 0.1895 - val_accuracy: 0.9269\n",
            "Epoch 21/100\n",
            "32/32 [==============================] - 2s 62ms/step - loss: 0.2217 - accuracy: 0.9119 - val_loss: 0.1603 - val_accuracy: 0.9178\n",
            "Epoch 22/100\n",
            "32/32 [==============================] - 2s 75ms/step - loss: 0.2240 - accuracy: 0.9002 - val_loss: 0.1477 - val_accuracy: 0.9224\n",
            "Epoch 23/100\n",
            "32/32 [==============================] - 2s 50ms/step - loss: 0.2047 - accuracy: 0.9090 - val_loss: 0.1957 - val_accuracy: 0.9315\n",
            "Epoch 24/100\n",
            "32/32 [==============================] - 1s 46ms/step - loss: 0.2383 - accuracy: 0.9061 - val_loss: 0.2006 - val_accuracy: 0.9178\n",
            "Epoch 25/100\n",
            "32/32 [==============================] - 1s 47ms/step - loss: 0.2131 - accuracy: 0.9100 - val_loss: 0.1950 - val_accuracy: 0.9178\n",
            "Epoch 26/100\n",
            "32/32 [==============================] - 1s 46ms/step - loss: 0.2132 - accuracy: 0.9207 - val_loss: 0.2395 - val_accuracy: 0.8950\n",
            "Epoch 27/100\n",
            "32/32 [==============================] - 2s 49ms/step - loss: 0.2098 - accuracy: 0.9100 - val_loss: 0.1818 - val_accuracy: 0.9087\n",
            "Epoch 28/100\n",
            "32/32 [==============================] - 2s 49ms/step - loss: 0.2051 - accuracy: 0.9110 - val_loss: 0.1588 - val_accuracy: 0.9269\n",
            "Epoch 29/100\n",
            "32/32 [==============================] - 2s 67ms/step - loss: 0.1963 - accuracy: 0.9149 - val_loss: 0.1570 - val_accuracy: 0.9361\n",
            "Epoch 30/100\n",
            "32/32 [==============================] - 3s 102ms/step - loss: 0.2120 - accuracy: 0.9100 - val_loss: 0.2217 - val_accuracy: 0.9041\n",
            "Epoch 31/100\n",
            "32/32 [==============================] - 3s 102ms/step - loss: 0.2050 - accuracy: 0.9237 - val_loss: 0.1836 - val_accuracy: 0.9406\n",
            "Epoch 32/100\n",
            "32/32 [==============================] - 2s 59ms/step - loss: 0.2060 - accuracy: 0.9139 - val_loss: 0.2270 - val_accuracy: 0.9087\n",
            "Epoch 33/100\n",
            "32/32 [==============================] - 1s 46ms/step - loss: 0.2196 - accuracy: 0.9129 - val_loss: 0.2139 - val_accuracy: 0.9132\n",
            "Epoch 34/100\n",
            "32/32 [==============================] - 2s 52ms/step - loss: 0.1919 - accuracy: 0.9198 - val_loss: 0.2192 - val_accuracy: 0.9178\n",
            "Epoch 35/100\n",
            "32/32 [==============================] - 3s 89ms/step - loss: 0.2033 - accuracy: 0.9227 - val_loss: 0.2272 - val_accuracy: 0.9269\n",
            "Epoch 36/100\n",
            "32/32 [==============================] - 1s 45ms/step - loss: 0.1844 - accuracy: 0.9237 - val_loss: 0.1963 - val_accuracy: 0.9132\n",
            "Epoch 37/100\n",
            "32/32 [==============================] - 2s 66ms/step - loss: 0.1826 - accuracy: 0.9217 - val_loss: 0.1763 - val_accuracy: 0.9315\n",
            "Epoch 38/100\n",
            "32/32 [==============================] - 2s 73ms/step - loss: 0.1750 - accuracy: 0.9227 - val_loss: 0.1879 - val_accuracy: 0.9178\n",
            "Epoch 39/100\n",
            "32/32 [==============================] - 2s 48ms/step - loss: 0.1855 - accuracy: 0.9178 - val_loss: 0.1795 - val_accuracy: 0.9224\n",
            "Epoch 40/100\n",
            "32/32 [==============================] - 2s 48ms/step - loss: 0.2007 - accuracy: 0.9168 - val_loss: 0.1846 - val_accuracy: 0.9224\n",
            "Epoch 41/100\n",
            "32/32 [==============================] - 2s 48ms/step - loss: 0.1762 - accuracy: 0.9286 - val_loss: 0.1977 - val_accuracy: 0.9178\n",
            "Epoch 42/100\n",
            "32/32 [==============================] - 2s 49ms/step - loss: 0.1880 - accuracy: 0.9149 - val_loss: 0.1738 - val_accuracy: 0.9269\n",
            "Epoch 43/100\n",
            "32/32 [==============================] - 2s 48ms/step - loss: 0.1835 - accuracy: 0.9178 - val_loss: 0.2624 - val_accuracy: 0.8995\n",
            "Epoch 44/100\n",
            "32/32 [==============================] - 2s 54ms/step - loss: 0.2203 - accuracy: 0.9051 - val_loss: 0.2012 - val_accuracy: 0.9132\n",
            "Epoch 45/100\n",
            "32/32 [==============================] - 3s 98ms/step - loss: 0.1934 - accuracy: 0.9247 - val_loss: 0.1755 - val_accuracy: 0.9224\n",
            "Epoch 46/100\n",
            "32/32 [==============================] - 3s 96ms/step - loss: 0.1809 - accuracy: 0.9247 - val_loss: 0.5450 - val_accuracy: 0.8128\n",
            "Epoch 47/100\n",
            "32/32 [==============================] - 2s 77ms/step - loss: 0.2177 - accuracy: 0.9129 - val_loss: 0.2136 - val_accuracy: 0.9315\n",
            "Epoch 48/100\n",
            "32/32 [==============================] - 1s 46ms/step - loss: 0.1696 - accuracy: 0.9237 - val_loss: 0.3047 - val_accuracy: 0.9041\n",
            "Epoch 49/100\n",
            "32/32 [==============================] - 2s 49ms/step - loss: 0.1807 - accuracy: 0.9237 - val_loss: 0.3052 - val_accuracy: 0.9132\n",
            "Epoch 50/100\n",
            "32/32 [==============================] - 2s 49ms/step - loss: 0.1658 - accuracy: 0.9286 - val_loss: 0.3065 - val_accuracy: 0.9224\n",
            "Epoch 51/100\n",
            "32/32 [==============================] - 1s 45ms/step - loss: 0.1814 - accuracy: 0.9305 - val_loss: 0.2400 - val_accuracy: 0.9178\n",
            "Epoch 52/100\n",
            "32/32 [==============================] - 1s 47ms/step - loss: 0.1723 - accuracy: 0.9325 - val_loss: 0.3036 - val_accuracy: 0.9178\n",
            "Epoch 53/100\n",
            "32/32 [==============================] - 2s 50ms/step - loss: 0.1697 - accuracy: 0.9335 - val_loss: 0.2148 - val_accuracy: 0.9406\n",
            "Epoch 54/100\n",
            "32/32 [==============================] - 2s 75ms/step - loss: 0.1629 - accuracy: 0.9266 - val_loss: 0.1846 - val_accuracy: 0.9269\n",
            "Epoch 55/100\n",
            "32/32 [==============================] - 2s 69ms/step - loss: 0.1672 - accuracy: 0.9315 - val_loss: 0.1695 - val_accuracy: 0.9361\n",
            "Epoch 56/100\n",
            "32/32 [==============================] - 2s 47ms/step - loss: 0.1708 - accuracy: 0.9276 - val_loss: 0.2046 - val_accuracy: 0.9315\n",
            "Epoch 57/100\n",
            "32/32 [==============================] - 1s 47ms/step - loss: 0.1724 - accuracy: 0.9364 - val_loss: 0.2799 - val_accuracy: 0.9132\n",
            "Epoch 58/100\n",
            "32/32 [==============================] - 2s 48ms/step - loss: 0.1527 - accuracy: 0.9315 - val_loss: 0.2957 - val_accuracy: 0.9224\n",
            "Epoch 59/100\n",
            "32/32 [==============================] - 2s 48ms/step - loss: 0.1499 - accuracy: 0.9315 - val_loss: 0.2252 - val_accuracy: 0.9315\n",
            "Epoch 60/100\n",
            "32/32 [==============================] - 2s 47ms/step - loss: 0.1435 - accuracy: 0.9344 - val_loss: 0.2983 - val_accuracy: 0.9315\n",
            "Epoch 61/100\n",
            "32/32 [==============================] - 2s 50ms/step - loss: 0.1536 - accuracy: 0.9315 - val_loss: 0.1994 - val_accuracy: 0.9269\n",
            "Epoch 62/100\n",
            "32/32 [==============================] - 2s 68ms/step - loss: 0.1526 - accuracy: 0.9393 - val_loss: 0.2759 - val_accuracy: 0.9224\n",
            "Epoch 63/100\n",
            "32/32 [==============================] - 2s 73ms/step - loss: 0.1632 - accuracy: 0.9217 - val_loss: 0.3251 - val_accuracy: 0.9132\n",
            "Epoch 64/100\n",
            "32/32 [==============================] - 1s 45ms/step - loss: 0.1816 - accuracy: 0.9178 - val_loss: 0.3362 - val_accuracy: 0.9132\n",
            "Epoch 65/100\n",
            "32/32 [==============================] - 1s 45ms/step - loss: 0.1418 - accuracy: 0.9393 - val_loss: 0.3389 - val_accuracy: 0.9178\n",
            "Epoch 66/100\n",
            "32/32 [==============================] - 2s 47ms/step - loss: 0.1597 - accuracy: 0.9315 - val_loss: 0.2006 - val_accuracy: 0.9361\n",
            "Epoch 67/100\n",
            "32/32 [==============================] - 2s 48ms/step - loss: 0.1484 - accuracy: 0.9286 - val_loss: 0.3178 - val_accuracy: 0.9178\n",
            "Epoch 68/100\n",
            "32/32 [==============================] - 2s 53ms/step - loss: 0.1579 - accuracy: 0.9335 - val_loss: 0.3555 - val_accuracy: 0.9269\n",
            "Epoch 69/100\n",
            "32/32 [==============================] - 1s 46ms/step - loss: 0.1337 - accuracy: 0.9364 - val_loss: 0.2862 - val_accuracy: 0.9178\n",
            "Epoch 70/100\n",
            "32/32 [==============================] - 2s 58ms/step - loss: 0.1881 - accuracy: 0.9247 - val_loss: 0.3123 - val_accuracy: 0.9178\n",
            "Epoch 71/100\n",
            "32/32 [==============================] - 2s 74ms/step - loss: 0.1661 - accuracy: 0.9335 - val_loss: 0.2616 - val_accuracy: 0.9269\n",
            "Epoch 72/100\n",
            "32/32 [==============================] - 2s 53ms/step - loss: 0.1590 - accuracy: 0.9315 - val_loss: 0.2007 - val_accuracy: 0.9269\n",
            "Epoch 73/100\n",
            "32/32 [==============================] - 2s 47ms/step - loss: 0.1303 - accuracy: 0.9393 - val_loss: 0.2198 - val_accuracy: 0.9361\n",
            "Epoch 74/100\n",
            "32/32 [==============================] - 1s 46ms/step - loss: 0.1345 - accuracy: 0.9344 - val_loss: 0.2525 - val_accuracy: 0.9087\n",
            "Epoch 75/100\n",
            "32/32 [==============================] - 1s 47ms/step - loss: 0.1345 - accuracy: 0.9364 - val_loss: 0.2928 - val_accuracy: 0.9087\n",
            "Epoch 76/100\n",
            "32/32 [==============================] - 2s 49ms/step - loss: 0.1450 - accuracy: 0.9384 - val_loss: 0.5208 - val_accuracy: 0.8904\n",
            "Epoch 77/100\n",
            "32/32 [==============================] - 2s 69ms/step - loss: 0.1600 - accuracy: 0.9227 - val_loss: 0.3345 - val_accuracy: 0.9178\n",
            "Epoch 78/100\n",
            "32/32 [==============================] - 2s 62ms/step - loss: 0.1489 - accuracy: 0.9413 - val_loss: 0.2626 - val_accuracy: 0.9315\n",
            "Epoch 79/100\n",
            "32/32 [==============================] - 2s 75ms/step - loss: 0.1236 - accuracy: 0.9452 - val_loss: 0.2732 - val_accuracy: 0.9361\n",
            "Epoch 80/100\n",
            "32/32 [==============================] - 2s 48ms/step - loss: 0.1148 - accuracy: 0.9501 - val_loss: 0.2481 - val_accuracy: 0.9315\n",
            "Epoch 81/100\n",
            "32/32 [==============================] - 2s 48ms/step - loss: 0.1544 - accuracy: 0.9315 - val_loss: 0.2152 - val_accuracy: 0.9178\n",
            "Epoch 82/100\n",
            "32/32 [==============================] - 2s 51ms/step - loss: 0.1486 - accuracy: 0.9335 - val_loss: 0.3120 - val_accuracy: 0.9224\n",
            "Epoch 83/100\n",
            "32/32 [==============================] - 3s 82ms/step - loss: 0.1424 - accuracy: 0.9384 - val_loss: 0.3795 - val_accuracy: 0.9224\n",
            "Epoch 84/100\n",
            "32/32 [==============================] - 2s 73ms/step - loss: 0.1379 - accuracy: 0.9403 - val_loss: 0.4496 - val_accuracy: 0.9132\n",
            "Epoch 85/100\n",
            "32/32 [==============================] - 3s 102ms/step - loss: 0.1285 - accuracy: 0.9403 - val_loss: 0.2401 - val_accuracy: 0.9452\n",
            "Epoch 86/100\n",
            "32/32 [==============================] - 2s 67ms/step - loss: 0.1448 - accuracy: 0.9354 - val_loss: 0.3346 - val_accuracy: 0.9178\n",
            "Epoch 87/100\n",
            "32/32 [==============================] - 2s 48ms/step - loss: 0.1216 - accuracy: 0.9481 - val_loss: 0.2596 - val_accuracy: 0.9406\n",
            "Epoch 88/100\n",
            "32/32 [==============================] - 1s 46ms/step - loss: 0.1484 - accuracy: 0.9325 - val_loss: 0.3799 - val_accuracy: 0.9178\n",
            "Epoch 89/100\n",
            "32/32 [==============================] - 1s 47ms/step - loss: 0.1302 - accuracy: 0.9413 - val_loss: 0.2796 - val_accuracy: 0.9224\n",
            "Epoch 90/100\n",
            "32/32 [==============================] - 1s 46ms/step - loss: 0.1275 - accuracy: 0.9462 - val_loss: 0.4248 - val_accuracy: 0.9224\n",
            "Epoch 91/100\n",
            "32/32 [==============================] - 1s 47ms/step - loss: 0.1251 - accuracy: 0.9432 - val_loss: 0.2418 - val_accuracy: 0.9224\n",
            "Epoch 92/100\n",
            "32/32 [==============================] - 1s 47ms/step - loss: 0.1235 - accuracy: 0.9481 - val_loss: 0.4773 - val_accuracy: 0.9132\n",
            "Epoch 93/100\n",
            "32/32 [==============================] - 2s 65ms/step - loss: 0.1009 - accuracy: 0.9540 - val_loss: 0.5885 - val_accuracy: 0.9132\n",
            "Epoch 94/100\n",
            "32/32 [==============================] - 2s 74ms/step - loss: 0.1035 - accuracy: 0.9550 - val_loss: 0.4525 - val_accuracy: 0.9315\n",
            "Epoch 95/100\n",
            "32/32 [==============================] - 2s 51ms/step - loss: 0.1096 - accuracy: 0.9560 - val_loss: 0.2940 - val_accuracy: 0.9452\n",
            "Epoch 96/100\n",
            "32/32 [==============================] - 2s 47ms/step - loss: 0.1244 - accuracy: 0.9452 - val_loss: 0.5415 - val_accuracy: 0.9269\n",
            "Epoch 97/100\n",
            "32/32 [==============================] - 2s 63ms/step - loss: 0.1308 - accuracy: 0.9462 - val_loss: 0.4662 - val_accuracy: 0.9224\n",
            "Epoch 98/100\n",
            "32/32 [==============================] - 2s 62ms/step - loss: 0.1485 - accuracy: 0.9393 - val_loss: 0.4022 - val_accuracy: 0.8995\n",
            "Epoch 99/100\n",
            "32/32 [==============================] - 2s 76ms/step - loss: 0.1256 - accuracy: 0.9413 - val_loss: 0.4885 - val_accuracy: 0.8995\n",
            "Epoch 100/100\n",
            "32/32 [==============================] - 2s 73ms/step - loss: 0.1424 - accuracy: 0.9442 - val_loss: 0.3314 - val_accuracy: 0.9178\n"
          ]
        }
      ],
      "source": [
        "#Adding regularization to our neural network\n",
        "model_2 = Sequential([\n",
        "    Dense(1000, activation='relu', input_shape=(10,)),\n",
        "    Dense(1000, activation='relu'),\n",
        "    Dense(1000, activation='relu'),\n",
        "    Dense(1000, activation='relu'),\n",
        "    Dense(1, activation='sigmoid'),\n",
        "])\n",
        "\n",
        "model_2.compile(optimizer='adam',\n",
        "              loss='binary_crossentropy',\n",
        "              metrics=['accuracy'])\n",
        "\n",
        "hist_2 = model_2.fit(X_train, Y_train,\n",
        "          batch_size=32, epochs=100,\n",
        "          validation_data=(X_val, Y_val))"
      ]
    },
    {
      "cell_type": "code",
      "execution_count": 27,
      "id": "f0a443cd",
      "metadata": {
        "colab": {
          "base_uri": "https://localhost:8080/",
          "height": 472
        },
        "id": "f0a443cd",
        "outputId": "98e1962e-f96a-4c50-bccc-3fea514fcfe7"
      },
      "outputs": [
        {
          "output_type": "display_data",
          "data": {
            "text/plain": [
              "<Figure size 640x480 with 1 Axes>"
            ],
            "image/png": "[encoded data removed]"
          },
          "metadata": {}
        }
      ],
      "source": [
        "# Plot training and validation loss over epochs for the new model\n",
        "plt.plot(hist_2.history['loss'])\n",
        "plt.plot(hist_2.history['val_loss'])\n",
        "plt.title('Model loss')\n",
        "plt.ylabel('Loss')\n",
        "plt.xlabel('Epoch')\n",
        "plt.legend(['Train', 'Val'], loc='upper right')\n",
        "plt.show()\n"
      ]
    },
    {
      "cell_type": "code",
      "execution_count": 28,
      "id": "50188e6f",
      "metadata": {
        "colab": {
          "base_uri": "https://localhost:8080/",
          "height": 472
        },
        "id": "50188e6f",
        "outputId": "90574df0-bbf9-4600-dd1e-518baeb2b52c"
      },
      "outputs": [
        {
          "output_type": "display_data",
          "data": {
            "text/plain": [
              "<Figure size 640x480 with 1 Axes>"
            ],
            "image/png": "[encoded data removed]"
          },
          "metadata": {}
        }
      ],
      "source": [
        "# Plot training and validation accuracy over epochs\n",
        "plt.plot(hist_2.history['accuracy'])\n",
        "plt.plot(hist_2.history['val_accuracy'])\n",
        "plt.title('Model accuracy')\n",
        "plt.ylabel('Accuracy')\n",
        "plt.xlabel('Epoch')\n",
        "plt.legend(['Train', 'Val'], loc='lower right')\n",
        "plt.show()\n"
      ]
    },
    {
      "cell_type": "markdown",
      "source": [
        "# Adding Dropout and Regularizers\n",
        "Dropout: Prevents overfitting by randomly setting a fraction of inputs to zero during training, promoting robust feature learning.\n",
        "\n",
        "Regularizers: Add penalties to the loss function to constrain model complexity and avoid overfitting."
      ],
      "metadata": {
        "id": "P2ggoEDB-Kub"
      },
      "id": "P2ggoEDB-Kub"
    },
    {
      "cell_type": "code",
      "execution_count": 30,
      "id": "3b2d114b",
      "metadata": {
        "id": "3b2d114b"
      },
      "outputs": [],
      "source": [
        "from keras.layers import Dropout\n",
        "from keras import regularizers"
      ]
    },
    {
      "cell_type": "code",
      "execution_count": 31,
      "id": "999db352",
      "metadata": {
        "id": "999db352",
        "colab": {
          "base_uri": "https://localhost:8080/"
        },
        "collapsed": true,
        "outputId": "3ca0bd89-3a64-43f6-d0d7-0e079a045f6c"
      },
      "outputs": [
        {
          "output_type": "stream",
          "name": "stdout",
          "text": [
            "Epoch 1/100\n",
            "32/32 [==============================] - 6s 92ms/step - loss: 14.2285 - accuracy: 0.6321 - val_loss: 3.9066 - val_accuracy: 0.8402\n",
            "Epoch 2/100\n",
            "32/32 [==============================] - 2s 55ms/step - loss: 1.7068 - accuracy: 0.7554 - val_loss: 0.6624 - val_accuracy: 0.8447\n",
            "Epoch 3/100\n",
            "32/32 [==============================] - 2s 57ms/step - loss: 0.6317 - accuracy: 0.8072 - val_loss: 0.5551 - val_accuracy: 0.8447\n",
            "Epoch 4/100\n",
            "32/32 [==============================] - 2s 74ms/step - loss: 0.5149 - accuracy: 0.8611 - val_loss: 0.4376 - val_accuracy: 0.9087\n",
            "Epoch 5/100\n",
            "32/32 [==============================] - 3s 106ms/step - loss: 0.5165 - accuracy: 0.8523 - val_loss: 0.4689 - val_accuracy: 0.8904\n",
            "Epoch 6/100\n",
            "32/32 [==============================] - 2s 62ms/step - loss: 0.4824 - accuracy: 0.8659 - val_loss: 0.4093 - val_accuracy: 0.9178\n",
            "Epoch 7/100\n",
            "32/32 [==============================] - 2s 60ms/step - loss: 0.4719 - accuracy: 0.8611 - val_loss: 0.4697 - val_accuracy: 0.8721\n",
            "Epoch 8/100\n",
            "32/32 [==============================] - 2s 55ms/step - loss: 0.4806 - accuracy: 0.8699 - val_loss: 0.4069 - val_accuracy: 0.9087\n",
            "Epoch 9/100\n",
            "32/32 [==============================] - 2s 55ms/step - loss: 0.5136 - accuracy: 0.8532 - val_loss: 0.4265 - val_accuracy: 0.9132\n",
            "Epoch 10/100\n",
            "32/32 [==============================] - 2s 54ms/step - loss: 0.4743 - accuracy: 0.8679 - val_loss: 0.3913 - val_accuracy: 0.9224\n",
            "Epoch 11/100\n",
            "32/32 [==============================] - 3s 82ms/step - loss: 0.4772 - accuracy: 0.8669 - val_loss: 0.4111 - val_accuracy: 0.9132\n",
            "Epoch 12/100\n",
            "32/32 [==============================] - 3s 78ms/step - loss: 0.4649 - accuracy: 0.8718 - val_loss: 0.4703 - val_accuracy: 0.8447\n",
            "Epoch 13/100\n",
            "32/32 [==============================] - 3s 82ms/step - loss: 0.4672 - accuracy: 0.8728 - val_loss: 0.4202 - val_accuracy: 0.9041\n",
            "Epoch 14/100\n",
            "32/32 [==============================] - 2s 62ms/step - loss: 0.4510 - accuracy: 0.8728 - val_loss: 0.3891 - val_accuracy: 0.9178\n",
            "Epoch 15/100\n",
            "32/32 [==============================] - 3s 91ms/step - loss: 0.4564 - accuracy: 0.8796 - val_loss: 0.4574 - val_accuracy: 0.8630\n",
            "Epoch 16/100\n",
            "32/32 [==============================] - 2s 57ms/step - loss: 0.4521 - accuracy: 0.8699 - val_loss: 0.4049 - val_accuracy: 0.9087\n",
            "Epoch 17/100\n",
            "32/32 [==============================] - 3s 82ms/step - loss: 0.4656 - accuracy: 0.8679 - val_loss: 0.3829 - val_accuracy: 0.9132\n",
            "Epoch 18/100\n",
            "32/32 [==============================] - 3s 79ms/step - loss: 0.4436 - accuracy: 0.8718 - val_loss: 0.4812 - val_accuracy: 0.8402\n",
            "Epoch 19/100\n",
            "32/32 [==============================] - 2s 54ms/step - loss: 0.4706 - accuracy: 0.8699 - val_loss: 0.3827 - val_accuracy: 0.9132\n",
            "Epoch 20/100\n",
            "32/32 [==============================] - 2s 56ms/step - loss: 0.4608 - accuracy: 0.8708 - val_loss: 0.4043 - val_accuracy: 0.9132\n",
            "Epoch 21/100\n",
            "32/32 [==============================] - 2s 53ms/step - loss: 0.4521 - accuracy: 0.8836 - val_loss: 0.3714 - val_accuracy: 0.9224\n",
            "Epoch 22/100\n",
            "32/32 [==============================] - 2s 53ms/step - loss: 0.4581 - accuracy: 0.8708 - val_loss: 0.4525 - val_accuracy: 0.8676\n",
            "Epoch 23/100\n",
            "32/32 [==============================] - 2s 55ms/step - loss: 0.4466 - accuracy: 0.8757 - val_loss: 0.3814 - val_accuracy: 0.9224\n",
            "Epoch 24/100\n",
            "32/32 [==============================] - 2s 66ms/step - loss: 0.4698 - accuracy: 0.8591 - val_loss: 0.4114 - val_accuracy: 0.8995\n",
            "Epoch 25/100\n",
            "32/32 [==============================] - 3s 84ms/step - loss: 0.4389 - accuracy: 0.8836 - val_loss: 0.3740 - val_accuracy: 0.9178\n",
            "Epoch 26/100\n",
            "32/32 [==============================] - 2s 60ms/step - loss: 0.4361 - accuracy: 0.8914 - val_loss: 0.3965 - val_accuracy: 0.9041\n",
            "Epoch 27/100\n",
            "32/32 [==============================] - 2s 53ms/step - loss: 0.4467 - accuracy: 0.8767 - val_loss: 0.3806 - val_accuracy: 0.9224\n",
            "Epoch 28/100\n",
            "32/32 [==============================] - 2s 53ms/step - loss: 0.4577 - accuracy: 0.8836 - val_loss: 0.4294 - val_accuracy: 0.8858\n",
            "Epoch 29/100\n",
            "32/32 [==============================] - 2s 53ms/step - loss: 0.4654 - accuracy: 0.8630 - val_loss: 0.3742 - val_accuracy: 0.9132\n",
            "Epoch 30/100\n",
            "32/32 [==============================] - 2s 54ms/step - loss: 0.4428 - accuracy: 0.8836 - val_loss: 0.3833 - val_accuracy: 0.9132\n",
            "Epoch 31/100\n",
            "32/32 [==============================] - 2s 55ms/step - loss: 0.4622 - accuracy: 0.8699 - val_loss: 0.4385 - val_accuracy: 0.8858\n",
            "Epoch 32/100\n",
            "32/32 [==============================] - 3s 86ms/step - loss: 0.4526 - accuracy: 0.8718 - val_loss: 0.3765 - val_accuracy: 0.9132\n",
            "Epoch 33/100\n",
            "32/32 [==============================] - 2s 72ms/step - loss: 0.4438 - accuracy: 0.8738 - val_loss: 0.3770 - val_accuracy: 0.9132\n",
            "Epoch 34/100\n",
            "32/32 [==============================] - 2s 55ms/step - loss: 0.4582 - accuracy: 0.8699 - val_loss: 0.3729 - val_accuracy: 0.9178\n",
            "Epoch 35/100\n",
            "32/32 [==============================] - 2s 56ms/step - loss: 0.4393 - accuracy: 0.8796 - val_loss: 0.3963 - val_accuracy: 0.8995\n",
            "Epoch 36/100\n",
            "32/32 [==============================] - 2s 55ms/step - loss: 0.4503 - accuracy: 0.8738 - val_loss: 0.3734 - val_accuracy: 0.9132\n",
            "Epoch 37/100\n",
            "32/32 [==============================] - 2s 55ms/step - loss: 0.4643 - accuracy: 0.8591 - val_loss: 0.3757 - val_accuracy: 0.9178\n",
            "Epoch 38/100\n",
            "32/32 [==============================] - 2s 58ms/step - loss: 0.4416 - accuracy: 0.8777 - val_loss: 0.4306 - val_accuracy: 0.8813\n",
            "Epoch 39/100\n",
            "32/32 [==============================] - 3s 85ms/step - loss: 0.4498 - accuracy: 0.8767 - val_loss: 0.3692 - val_accuracy: 0.9178\n",
            "Epoch 40/100\n",
            "32/32 [==============================] - 2s 69ms/step - loss: 0.4460 - accuracy: 0.8826 - val_loss: 0.3770 - val_accuracy: 0.9132\n",
            "Epoch 41/100\n",
            "32/32 [==============================] - 2s 54ms/step - loss: 0.4477 - accuracy: 0.8748 - val_loss: 0.3824 - val_accuracy: 0.9132\n",
            "Epoch 42/100\n",
            "32/32 [==============================] - 2s 58ms/step - loss: 0.4505 - accuracy: 0.8689 - val_loss: 0.3685 - val_accuracy: 0.9178\n",
            "Epoch 43/100\n",
            "32/32 [==============================] - 2s 56ms/step - loss: 0.4491 - accuracy: 0.8738 - val_loss: 0.4299 - val_accuracy: 0.8904\n",
            "Epoch 44/100\n",
            "32/32 [==============================] - 2s 60ms/step - loss: 0.4359 - accuracy: 0.8806 - val_loss: 0.3789 - val_accuracy: 0.9269\n",
            "Epoch 45/100\n",
            "32/32 [==============================] - 2s 60ms/step - loss: 0.4457 - accuracy: 0.8826 - val_loss: 0.4191 - val_accuracy: 0.8858\n",
            "Epoch 46/100\n",
            "32/32 [==============================] - 3s 87ms/step - loss: 0.4455 - accuracy: 0.8767 - val_loss: 0.3676 - val_accuracy: 0.9224\n",
            "Epoch 47/100\n",
            "32/32 [==============================] - 2s 65ms/step - loss: 0.4455 - accuracy: 0.8699 - val_loss: 0.3699 - val_accuracy: 0.9178\n",
            "Epoch 48/100\n",
            "32/32 [==============================] - 2s 55ms/step - loss: 0.4331 - accuracy: 0.8806 - val_loss: 0.4028 - val_accuracy: 0.8995\n",
            "Epoch 49/100\n",
            "32/32 [==============================] - 2s 58ms/step - loss: 0.4450 - accuracy: 0.8699 - val_loss: 0.3765 - val_accuracy: 0.9132\n",
            "Epoch 50/100\n",
            "32/32 [==============================] - 2s 57ms/step - loss: 0.4440 - accuracy: 0.8787 - val_loss: 0.3636 - val_accuracy: 0.9178\n",
            "Epoch 51/100\n",
            "32/32 [==============================] - 2s 55ms/step - loss: 0.4390 - accuracy: 0.8806 - val_loss: 0.3702 - val_accuracy: 0.9132\n",
            "Epoch 52/100\n",
            "32/32 [==============================] - 2s 62ms/step - loss: 0.4644 - accuracy: 0.8591 - val_loss: 0.4407 - val_accuracy: 0.8767\n",
            "Epoch 53/100\n",
            "32/32 [==============================] - 3s 99ms/step - loss: 0.4425 - accuracy: 0.8806 - val_loss: 0.4542 - val_accuracy: 0.8584\n",
            "Epoch 54/100\n",
            "32/32 [==============================] - 3s 100ms/step - loss: 0.4541 - accuracy: 0.8708 - val_loss: 0.3841 - val_accuracy: 0.9132\n",
            "Epoch 55/100\n",
            "32/32 [==============================] - 2s 67ms/step - loss: 0.4428 - accuracy: 0.8806 - val_loss: 0.3633 - val_accuracy: 0.9178\n",
            "Epoch 56/100\n",
            "32/32 [==============================] - 2s 58ms/step - loss: 0.4638 - accuracy: 0.8689 - val_loss: 0.4176 - val_accuracy: 0.8950\n",
            "Epoch 57/100\n",
            "32/32 [==============================] - 2s 57ms/step - loss: 0.4568 - accuracy: 0.8708 - val_loss: 0.3814 - val_accuracy: 0.9132\n",
            "Epoch 58/100\n",
            "32/32 [==============================] - 2s 56ms/step - loss: 0.4416 - accuracy: 0.8885 - val_loss: 0.3774 - val_accuracy: 0.9132\n",
            "Epoch 59/100\n",
            "32/32 [==============================] - 2s 56ms/step - loss: 0.4376 - accuracy: 0.8738 - val_loss: 0.3639 - val_accuracy: 0.9178\n",
            "Epoch 60/100\n",
            "32/32 [==============================] - 2s 64ms/step - loss: 0.4407 - accuracy: 0.8806 - val_loss: 0.3739 - val_accuracy: 0.9178\n",
            "Epoch 61/100\n",
            "32/32 [==============================] - 3s 88ms/step - loss: 0.4403 - accuracy: 0.8796 - val_loss: 0.4072 - val_accuracy: 0.9041\n",
            "Epoch 62/100\n",
            "32/32 [==============================] - 2s 55ms/step - loss: 0.4453 - accuracy: 0.8738 - val_loss: 0.3924 - val_accuracy: 0.9041\n",
            "Epoch 63/100\n",
            "32/32 [==============================] - 2s 57ms/step - loss: 0.4555 - accuracy: 0.8708 - val_loss: 0.4360 - val_accuracy: 0.8721\n",
            "Epoch 64/100\n",
            "32/32 [==============================] - 2s 58ms/step - loss: 0.4561 - accuracy: 0.8650 - val_loss: 0.3776 - val_accuracy: 0.9132\n",
            "Epoch 65/100\n",
            "32/32 [==============================] - 2s 56ms/step - loss: 0.4428 - accuracy: 0.8826 - val_loss: 0.3881 - val_accuracy: 0.9087\n",
            "Epoch 66/100\n",
            "32/32 [==============================] - 2s 59ms/step - loss: 0.4311 - accuracy: 0.8757 - val_loss: 0.3713 - val_accuracy: 0.9132\n",
            "Epoch 67/100\n",
            "32/32 [==============================] - 3s 107ms/step - loss: 0.4566 - accuracy: 0.8581 - val_loss: 0.3724 - val_accuracy: 0.9224\n",
            "Epoch 68/100\n",
            "32/32 [==============================] - 3s 96ms/step - loss: 0.4632 - accuracy: 0.8630 - val_loss: 0.4401 - val_accuracy: 0.8767\n",
            "Epoch 69/100\n",
            "32/32 [==============================] - 3s 87ms/step - loss: 0.4396 - accuracy: 0.8728 - val_loss: 0.3891 - val_accuracy: 0.8995\n",
            "Epoch 70/100\n",
            "32/32 [==============================] - 2s 56ms/step - loss: 0.4332 - accuracy: 0.8826 - val_loss: 0.3818 - val_accuracy: 0.9087\n",
            "Epoch 71/100\n",
            "32/32 [==============================] - 2s 56ms/step - loss: 0.4497 - accuracy: 0.8728 - val_loss: 0.3670 - val_accuracy: 0.9178\n",
            "Epoch 72/100\n",
            "32/32 [==============================] - 2s 56ms/step - loss: 0.4315 - accuracy: 0.8894 - val_loss: 0.3646 - val_accuracy: 0.9178\n",
            "Epoch 73/100\n",
            "32/32 [==============================] - 2s 58ms/step - loss: 0.4487 - accuracy: 0.8659 - val_loss: 0.4703 - val_accuracy: 0.8402\n",
            "Epoch 74/100\n",
            "32/32 [==============================] - 2s 68ms/step - loss: 0.4269 - accuracy: 0.8885 - val_loss: 0.3782 - val_accuracy: 0.9087\n",
            "Epoch 75/100\n",
            "32/32 [==============================] - 3s 88ms/step - loss: 0.4448 - accuracy: 0.8796 - val_loss: 0.3675 - val_accuracy: 0.9178\n",
            "Epoch 76/100\n",
            "32/32 [==============================] - 2s 59ms/step - loss: 0.4630 - accuracy: 0.8591 - val_loss: 0.3731 - val_accuracy: 0.9178\n",
            "Epoch 77/100\n",
            "32/32 [==============================] - 2s 55ms/step - loss: 0.4645 - accuracy: 0.8738 - val_loss: 0.3710 - val_accuracy: 0.9178\n",
            "Epoch 78/100\n",
            "32/32 [==============================] - 2s 58ms/step - loss: 0.4406 - accuracy: 0.8748 - val_loss: 0.3715 - val_accuracy: 0.9132\n",
            "Epoch 79/100\n",
            "32/32 [==============================] - 2s 56ms/step - loss: 0.4541 - accuracy: 0.8699 - val_loss: 0.3835 - val_accuracy: 0.9132\n",
            "Epoch 80/100\n",
            "32/32 [==============================] - 2s 57ms/step - loss: 0.4375 - accuracy: 0.8787 - val_loss: 0.4327 - val_accuracy: 0.8767\n",
            "Epoch 81/100\n",
            "32/32 [==============================] - 2s 67ms/step - loss: 0.4450 - accuracy: 0.8679 - val_loss: 0.3727 - val_accuracy: 0.9132\n",
            "Epoch 82/100\n",
            "32/32 [==============================] - 3s 85ms/step - loss: 0.4411 - accuracy: 0.8816 - val_loss: 0.3627 - val_accuracy: 0.9132\n",
            "Epoch 83/100\n",
            "32/32 [==============================] - 2s 63ms/step - loss: 0.4472 - accuracy: 0.8738 - val_loss: 0.4071 - val_accuracy: 0.8995\n",
            "Epoch 84/100\n",
            "32/32 [==============================] - 2s 59ms/step - loss: 0.4473 - accuracy: 0.8669 - val_loss: 0.3784 - val_accuracy: 0.9132\n",
            "Epoch 85/100\n",
            "32/32 [==============================] - 2s 56ms/step - loss: 0.4466 - accuracy: 0.8738 - val_loss: 0.3928 - val_accuracy: 0.9087\n",
            "Epoch 86/100\n",
            "32/32 [==============================] - 2s 54ms/step - loss: 0.4420 - accuracy: 0.8728 - val_loss: 0.3665 - val_accuracy: 0.9132\n",
            "Epoch 87/100\n",
            "32/32 [==============================] - 2s 59ms/step - loss: 0.4373 - accuracy: 0.8816 - val_loss: 0.3667 - val_accuracy: 0.9178\n",
            "Epoch 88/100\n",
            "32/32 [==============================] - 2s 59ms/step - loss: 0.4326 - accuracy: 0.8845 - val_loss: 0.3710 - val_accuracy: 0.9178\n",
            "Epoch 89/100\n",
            "32/32 [==============================] - 3s 91ms/step - loss: 0.4467 - accuracy: 0.8718 - val_loss: 0.3744 - val_accuracy: 0.9178\n",
            "Epoch 90/100\n",
            "32/32 [==============================] - 2s 64ms/step - loss: 0.4327 - accuracy: 0.8816 - val_loss: 0.3660 - val_accuracy: 0.9132\n",
            "Epoch 91/100\n",
            "32/32 [==============================] - 2s 57ms/step - loss: 0.4409 - accuracy: 0.8806 - val_loss: 0.3640 - val_accuracy: 0.9178\n",
            "Epoch 92/100\n",
            "32/32 [==============================] - 2s 58ms/step - loss: 0.4523 - accuracy: 0.8699 - val_loss: 0.3955 - val_accuracy: 0.8950\n",
            "Epoch 93/100\n",
            "32/32 [==============================] - 2s 55ms/step - loss: 0.4370 - accuracy: 0.8836 - val_loss: 0.4330 - val_accuracy: 0.8676\n",
            "Epoch 94/100\n",
            "32/32 [==============================] - 2s 59ms/step - loss: 0.4555 - accuracy: 0.8708 - val_loss: 0.4557 - val_accuracy: 0.8584\n",
            "Epoch 95/100\n",
            "32/32 [==============================] - 2s 66ms/step - loss: 0.4368 - accuracy: 0.8787 - val_loss: 0.4010 - val_accuracy: 0.8995\n",
            "Epoch 96/100\n",
            "32/32 [==============================] - 3s 87ms/step - loss: 0.4420 - accuracy: 0.8806 - val_loss: 0.3910 - val_accuracy: 0.9087\n",
            "Epoch 97/100\n",
            "32/32 [==============================] - 2s 63ms/step - loss: 0.4375 - accuracy: 0.8796 - val_loss: 0.3713 - val_accuracy: 0.9178\n",
            "Epoch 98/100\n",
            "32/32 [==============================] - 2s 58ms/step - loss: 0.4385 - accuracy: 0.8728 - val_loss: 0.3668 - val_accuracy: 0.9178\n",
            "Epoch 99/100\n",
            "32/32 [==============================] - 2s 56ms/step - loss: 0.4375 - accuracy: 0.8708 - val_loss: 0.3633 - val_accuracy: 0.9178\n",
            "Epoch 100/100\n",
            "32/32 [==============================] - 2s 57ms/step - loss: 0.4398 - accuracy: 0.8757 - val_loss: 0.3666 - val_accuracy: 0.9132\n"
          ]
        }
      ],
      "source": [
        "#Adding regularization to our neural network\n",
        "model_3 = Sequential([\n",
        "    Dense(1000, activation='relu', kernel_regularizer=regularizers.l2(0.01), input_shape=(10,)),\n",
        "    Dropout(0.3),\n",
        "    Dense(1000, activation='relu', kernel_regularizer=regularizers.l2(0.01)),\n",
        "    Dropout(0.3),\n",
        "    Dense(1000, activation='relu', kernel_regularizer=regularizers.l2(0.01)),\n",
        "    Dropout(0.3),\n",
        "    Dense(1000, activation='relu', kernel_regularizer=regularizers.l2(0.01)),\n",
        "    Dropout(0.3),\n",
        "    Dense(1, activation='sigmoid', kernel_regularizer=regularizers.l2(0.01)),\n",
        "])\n",
        "\n",
        "\n",
        "model_3.compile(optimizer='adam',\n",
        "              loss='binary_crossentropy',\n",
        "              metrics=['accuracy'])\n",
        "\n",
        "hist_3 = model_3.fit(X_train, Y_train,\n",
        "          batch_size=32, epochs=100,\n",
        "          validation_data=(X_val, Y_val))"
      ]
    },
    {
      "cell_type": "code",
      "execution_count": 32,
      "id": "u3jgZPDNtaks",
      "metadata": {
        "id": "u3jgZPDNtaks",
        "colab": {
          "base_uri": "https://localhost:8080/",
          "height": 472
        },
        "outputId": "30c7aefa-6550-4104-9dfb-8c450e373ee7"
      },
      "outputs": [
        {
          "output_type": "display_data",
          "data": {
            "text/plain": [
              "<Figure size 640x480 with 1 Axes>"
            ],
            "image/png": "[encoded data removed]"
          },
          "metadata": {}
        }
      ],
      "source": [
        "# Plot training and validation loss for the updated model\n",
        "plt.plot(hist_3.history['loss'])\n",
        "plt.plot(hist_3.history['val_loss'])\n",
        "plt.title('Model loss')\n",
        "plt.ylabel('Loss')\n",
        "plt.xlabel('Epoch')\n",
        "plt.legend(['Train', 'Val'], loc='upper right')\n",
        "plt.show()\n"
      ]
    },
    {
      "cell_type": "code",
      "execution_count": null,
      "id": "ncZXEGG-tmrM",
      "metadata": {
        "id": "ncZXEGG-tmrM"
      },
      "outputs": [],
      "source": []
    }
  ],
  "metadata": {
    "colab": {
      "provenance": []
    },
    "kernelspec": {
      "display_name": "Python 3 (ipykernel)",
      "language": "python",
      "name": "python3"
    },
    "language_info": {
      "codemirror_mode": {
        "name": "ipython",
        "version": 3
      },
      "file_extension": ".py",
      "mimetype": "text/x-python",
      "name": "python",
      "nbconvert_exporter": "python",
      "pygments_lexer": "ipython3",
      "version": "3.10.9"
    }
  },
  "nbformat": 4,
  "nbformat_minor": 5
}